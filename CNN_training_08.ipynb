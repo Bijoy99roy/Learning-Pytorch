{
  "nbformat": 4,
  "nbformat_minor": 0,
  "metadata": {
    "colab": {
      "name": "CNN training 08.ipynb",
      "provenance": [],
      "authorship_tag": "ABX9TyNXa6uafPn7DAmPNEUoQqBe"
    },
    "kernelspec": {
      "name": "python3",
      "display_name": "Python 3"
    },
    "language_info": {
      "name": "python"
    },
    "accelerator": "GPU",
    "gpuClass": "standard"
  },
  "cells": [
    {
      "cell_type": "code",
      "execution_count": 69,
      "metadata": {
        "id": "16zOTnXt9xLE"
      },
      "outputs": [],
      "source": [
        "import os\n",
        "import numpy as np\n",
        "import pandas as pd\n",
        "import seaborn as sns\n",
        "import torch\n",
        "import torch.nn as nn\n",
        "from torchvision import transforms, datasets\n",
        "import torch.nn.functional as F\n",
        "from sklearn.metrics import confusion_matrix\n",
        "from tqdm import tqdm\n",
        "import matplotlib.pyplot as plt\n",
        "from torch.utils.data import DataLoader"
      ]
    },
    {
      "cell_type": "markdown",
      "source": [
        "# Download datset"
      ],
      "metadata": {
        "id": "UUCO6yhZ-WFc"
      }
    },
    {
      "cell_type": "code",
      "source": [
        "ROOT_DATA_DIR='FashionMNISTDir'\n",
        "\n",
        "train_data = datasets.FashionMNIST(\n",
        "    root = ROOT_DATA_DIR,\n",
        "    train=True,\n",
        "    download=True,\n",
        "    transform = transforms.ToTensor()\n",
        ")\n",
        "\n",
        "test_data = datasets.FashionMNIST(\n",
        "    root =ROOT_DATA_DIR,\n",
        "    train=False,\n",
        "    download=True,\n",
        "    transform=transforms.ToTensor()\n",
        ")"
      ],
      "metadata": {
        "id": "cfqtmNqQ-VHO"
      },
      "execution_count": 70,
      "outputs": []
    },
    {
      "cell_type": "code",
      "source": [
        "train_data.data.shape"
      ],
      "metadata": {
        "colab": {
          "base_uri": "https://localhost:8080/"
        },
        "id": "fngq2-a8-_6g",
        "outputId": "ccc59dba-a950-4dd7-b0f0-d610bd60e43c"
      },
      "execution_count": 71,
      "outputs": [
        {
          "output_type": "execute_result",
          "data": {
            "text/plain": [
              "torch.Size([60000, 28, 28])"
            ]
          },
          "metadata": {},
          "execution_count": 71
        }
      ]
    },
    {
      "cell_type": "code",
      "source": [
        "test_data.data.shape"
      ],
      "metadata": {
        "colab": {
          "base_uri": "https://localhost:8080/"
        },
        "id": "foDnKzyL_HWH",
        "outputId": "b089a30a-19b2-4271-a382-0cc7a6a68c67"
      },
      "execution_count": 72,
      "outputs": [
        {
          "output_type": "execute_result",
          "data": {
            "text/plain": [
              "torch.Size([10000, 28, 28])"
            ]
          },
          "metadata": {},
          "execution_count": 72
        }
      ]
    },
    {
      "cell_type": "code",
      "source": [
        "label_map = {\n",
        "    0: 'T-shirt/top',\n",
        "    1: 'Trouser',\n",
        "    2: 'Pullover',\n",
        "    3:' Dress',\n",
        "    4: 'Coat',\n",
        "    5: 'Sandal',\n",
        "    6: 'Shirt',\n",
        "    7: 'Sneaker',\n",
        "    8: 'Bag',\n",
        "    9: 'Ankle boot',\n",
        "    }"
      ],
      "metadata": {
        "id": "Ah535ku5_J8y"
      },
      "execution_count": 73,
      "outputs": []
    },
    {
      "cell_type": "markdown",
      "source": [
        "# Visualize One Example"
      ],
      "metadata": {
        "id": "7OzQVrdA_P9A"
      }
    },
    {
      "cell_type": "code",
      "source": [
        "def view_image(data, index, label_map):\n",
        "  plt.imshow(data.data[index], cmap='gray')\n",
        "  plt.title(f\"data label: {label_map[data.targets[index].item()]}\")\n",
        "  plt.axis(\"off\")"
      ],
      "metadata": {
        "id": "vDkmNsFS_PLG"
      },
      "execution_count": 74,
      "outputs": []
    },
    {
      "cell_type": "code",
      "source": [
        "view_image(train_data, index=1, label_map=label_map)"
      ],
      "metadata": {
        "colab": {
          "base_uri": "https://localhost:8080/",
          "height": 264
        },
        "id": "1OtTaAX2_rXm",
        "outputId": "a76a9213-e915-4ad3-9cf7-7aa2f0922959"
      },
      "execution_count": 75,
      "outputs": [
        {
          "output_type": "display_data",
          "data": {
            "text/plain": [
              "<Figure size 432x288 with 1 Axes>"
            ],
            "image/png": "[encoded data removed]"
          },
          "metadata": {
            "needs_background": "light"
          }
        }
      ]
    },
    {
      "cell_type": "markdown",
      "source": [
        "# Create dataloader"
      ],
      "metadata": {
        "id": "tPCZACrBDiAw"
      }
    },
    {
      "cell_type": "code",
      "source": [
        "BATCH_SIZE=64\n",
        "\n",
        "train_data_loader = DataLoader(\n",
        "    dataset = train_data,\n",
        "    batch_size = BATCH_SIZE,\n",
        "    shuffle=True\n",
        ")\n",
        "\n",
        "test_data_loader = DataLoader(\n",
        "    dataset = test_data,\n",
        "    batch_size=BATCH_SIZE,\n",
        "    shuffle=True\n",
        ")"
      ],
      "metadata": {
        "id": "WtN4z23m_x6h"
      },
      "execution_count": 76,
      "outputs": []
    },
    {
      "cell_type": "code",
      "source": [
        "for data, label in test_data_loader:\n",
        "  print(data.shape)\n",
        "  print(label.shape)\n",
        "  break"
      ],
      "metadata": {
        "colab": {
          "base_uri": "https://localhost:8080/"
        },
        "id": "h4i6jhUiEIw_",
        "outputId": "68c46e54-6def-4963-a508-b7e7c64d8c0c"
      },
      "execution_count": 77,
      "outputs": [
        {
          "output_type": "stream",
          "name": "stdout",
          "text": [
            "torch.Size([64, 1, 28, 28])\n",
            "torch.Size([64])\n"
          ]
        }
      ]
    },
    {
      "cell_type": "markdown",
      "source": [
        "# Cnn Architecture"
      ],
      "metadata": {
        "id": "cNkLEUENKj-6"
      }
    },
    {
      "cell_type": "code",
      "source": [
        "device = \"cuda\" if torch.cuda.is_available() else \"cpu\"\n",
        "device"
      ],
      "metadata": {
        "id": "KGrfm9QUES6o",
        "colab": {
          "base_uri": "https://localhost:8080/",
          "height": 36
        },
        "outputId": "0a22cd59-81b6-4915-ce08-0163e64746a4"
      },
      "execution_count": 78,
      "outputs": [
        {
          "output_type": "execute_result",
          "data": {
            "text/plain": [
              "'cuda'"
            ],
            "application/vnd.google.colaboratory.intrinsic+json": {
              "type": "string"
            }
          },
          "metadata": {},
          "execution_count": 78
        }
      ]
    },
    {
      "cell_type": "code",
      "source": [
        "class CNN(nn.Module):\n",
        "  def __init__(self, in_, out_):\n",
        "    super(CNN, self).__init__()\n",
        "\n",
        "    self.conv_pool_01 = nn.Sequential(\n",
        "        nn.Conv2d(in_channels=in_, out_channels = 8, kernel_size=5, stride=1, padding=0),\n",
        "        nn.ReLU(),\n",
        "        nn.MaxPool2d(kernel_size=2, stride=2)\n",
        "    )\n",
        "\n",
        "    self.conv_pool_02 = nn.Sequential(\n",
        "        nn.Conv2d(in_channels = 8, out_channels=16, kernel_size=5, stride=1, padding=0),\n",
        "        nn.ReLU(),\n",
        "        nn.MaxPool2d(kernel_size=2, stride=2)\n",
        "    )\n",
        "\n",
        "    self.Flatten = nn.Flatten()\n",
        "    self.FC_01 = nn.Linear(in_features=16*4*4, out_features=128)\n",
        "    self.FC_02 = nn.Linear(in_features=128, out_features=64)\n",
        "    self.FC_03 = nn.Linear(in_features=64, out_features = out_)\n",
        "\n",
        "  def forward(self, x):\n",
        "    x = self.conv_pool_01(x)\n",
        "    x = self.conv_pool_02(x)\n",
        "    x = self.Flatten(x)\n",
        "    x = self.FC_01(x)\n",
        "    x = self.FC_02(x)        \n",
        "    x = self.FC_03(x)\n",
        "    return x"
      ],
      "metadata": {
        "id": "lg7_CNypKwhF"
      },
      "execution_count": 79,
      "outputs": []
    },
    {
      "cell_type": "code",
      "source": [
        "model = CNN(1, 10)\n",
        "model.to(device)"
      ],
      "metadata": {
        "colab": {
          "base_uri": "https://localhost:8080/"
        },
        "id": "og32b6BOKweh",
        "outputId": "06d4a72b-61f9-4cf3-f0a1-4201e6b5bea4"
      },
      "execution_count": 80,
      "outputs": [
        {
          "output_type": "execute_result",
          "data": {
            "text/plain": [
              "CNN(\n",
              "  (conv_pool_01): Sequential(\n",
              "    (0): Conv2d(1, 8, kernel_size=(5, 5), stride=(1, 1))\n",
              "    (1): ReLU()\n",
              "    (2): MaxPool2d(kernel_size=2, stride=2, padding=0, dilation=1, ceil_mode=False)\n",
              "  )\n",
              "  (conv_pool_02): Sequential(\n",
              "    (0): Conv2d(8, 16, kernel_size=(5, 5), stride=(1, 1))\n",
              "    (1): ReLU()\n",
              "    (2): MaxPool2d(kernel_size=2, stride=2, padding=0, dilation=1, ceil_mode=False)\n",
              "  )\n",
              "  (Flatten): Flatten(start_dim=1, end_dim=-1)\n",
              "  (FC_01): Linear(in_features=256, out_features=128, bias=True)\n",
              "  (FC_02): Linear(in_features=128, out_features=64, bias=True)\n",
              "  (FC_03): Linear(in_features=64, out_features=10, bias=True)\n",
              ")"
            ]
          },
          "metadata": {},
          "execution_count": 80
        }
      ]
    },
    {
      "cell_type": "markdown",
      "source": [
        "#Count no of trainable parameters"
      ],
      "metadata": {
        "id": "khfalFT2NJon"
      }
    },
    {
      "cell_type": "code",
      "source": [
        "def count_params(model):\n",
        "  model_params  = {'Modules': list(), 'Parameters': list()}\n",
        "  total = 0\n",
        "  for name, parameters in model.named_parameters():\n",
        "    if not parameters.requires_grad:\n",
        "      continue\n",
        "    params = parameters.numel()\n",
        "    model_params['Modules'].append(name)\n",
        "    model_params['Parameters'].append(params)\n",
        "    total+=params\n",
        "  df = pd.DataFrame(model_params)\n",
        "  df = df.style.set_caption(f'Total trainable parameters: {total}')\n",
        "  return df\n",
        "\n",
        "count_params(model)"
      ],
      "metadata": {
        "colab": {
          "base_uri": "https://localhost:8080/",
          "height": 380
        },
        "id": "Z-W7rVZGKwcO",
        "outputId": "34438f45-c7a5-43e5-91dd-a311d10d755a"
      },
      "execution_count": 81,
      "outputs": [
        {
          "output_type": "execute_result",
          "data": {
            "text/plain": [
              "<pandas.io.formats.style.Styler at 0x7fac114f1cd0>"
            ],
            "text/html": [
              "<style type=\"text/css\">\n",
              "</style>\n",
              "<table id=\"T_b4633_\" class=\"dataframe\">\n",
              "  <caption>Total trainable parameters: 45226</caption>\n",
              "  <thead>\n",
              "    <tr>\n",
              "      <th class=\"blank level0\" >&nbsp;</th>\n",
              "      <th class=\"col_heading level0 col0\" >Modules</th>\n",
              "      <th class=\"col_heading level0 col1\" >Parameters</th>\n",
              "    </tr>\n",
              "  </thead>\n",
              "  <tbody>\n",
              "    <tr>\n",
              "      <th id=\"T_b4633_level0_row0\" class=\"row_heading level0 row0\" >0</th>\n",
              "      <td id=\"T_b4633_row0_col0\" class=\"data row0 col0\" >conv_pool_01.0.weight</td>\n",
              "      <td id=\"T_b4633_row0_col1\" class=\"data row0 col1\" >200</td>\n",
              "    </tr>\n",
              "    <tr>\n",
              "      <th id=\"T_b4633_level0_row1\" class=\"row_heading level0 row1\" >1</th>\n",
              "      <td id=\"T_b4633_row1_col0\" class=\"data row1 col0\" >conv_pool_01.0.bias</td>\n",
              "      <td id=\"T_b4633_row1_col1\" class=\"data row1 col1\" >8</td>\n",
              "    </tr>\n",
              "    <tr>\n",
              "      <th id=\"T_b4633_level0_row2\" class=\"row_heading level0 row2\" >2</th>\n",
              "      <td id=\"T_b4633_row2_col0\" class=\"data row2 col0\" >conv_pool_02.0.weight</td>\n",
              "      <td id=\"T_b4633_row2_col1\" class=\"data row2 col1\" >3200</td>\n",
              "    </tr>\n",
              "    <tr>\n",
              "      <th id=\"T_b4633_level0_row3\" class=\"row_heading level0 row3\" >3</th>\n",
              "      <td id=\"T_b4633_row3_col0\" class=\"data row3 col0\" >conv_pool_02.0.bias</td>\n",
              "      <td id=\"T_b4633_row3_col1\" class=\"data row3 col1\" >16</td>\n",
              "    </tr>\n",
              "    <tr>\n",
              "      <th id=\"T_b4633_level0_row4\" class=\"row_heading level0 row4\" >4</th>\n",
              "      <td id=\"T_b4633_row4_col0\" class=\"data row4 col0\" >FC_01.weight</td>\n",
              "      <td id=\"T_b4633_row4_col1\" class=\"data row4 col1\" >32768</td>\n",
              "    </tr>\n",
              "    <tr>\n",
              "      <th id=\"T_b4633_level0_row5\" class=\"row_heading level0 row5\" >5</th>\n",
              "      <td id=\"T_b4633_row5_col0\" class=\"data row5 col0\" >FC_01.bias</td>\n",
              "      <td id=\"T_b4633_row5_col1\" class=\"data row5 col1\" >128</td>\n",
              "    </tr>\n",
              "    <tr>\n",
              "      <th id=\"T_b4633_level0_row6\" class=\"row_heading level0 row6\" >6</th>\n",
              "      <td id=\"T_b4633_row6_col0\" class=\"data row6 col0\" >FC_02.weight</td>\n",
              "      <td id=\"T_b4633_row6_col1\" class=\"data row6 col1\" >8192</td>\n",
              "    </tr>\n",
              "    <tr>\n",
              "      <th id=\"T_b4633_level0_row7\" class=\"row_heading level0 row7\" >7</th>\n",
              "      <td id=\"T_b4633_row7_col0\" class=\"data row7 col0\" >FC_02.bias</td>\n",
              "      <td id=\"T_b4633_row7_col1\" class=\"data row7 col1\" >64</td>\n",
              "    </tr>\n",
              "    <tr>\n",
              "      <th id=\"T_b4633_level0_row8\" class=\"row_heading level0 row8\" >8</th>\n",
              "      <td id=\"T_b4633_row8_col0\" class=\"data row8 col0\" >FC_03.weight</td>\n",
              "      <td id=\"T_b4633_row8_col1\" class=\"data row8 col1\" >640</td>\n",
              "    </tr>\n",
              "    <tr>\n",
              "      <th id=\"T_b4633_level0_row9\" class=\"row_heading level0 row9\" >9</th>\n",
              "      <td id=\"T_b4633_row9_col0\" class=\"data row9 col0\" >FC_03.bias</td>\n",
              "      <td id=\"T_b4633_row9_col1\" class=\"data row9 col1\" >10</td>\n",
              "    </tr>\n",
              "  </tbody>\n",
              "</table>\n"
            ]
          },
          "metadata": {},
          "execution_count": 81
        }
      ]
    },
    {
      "cell_type": "code",
      "source": [
        "next(model.parameters()).is_cuda"
      ],
      "metadata": {
        "id": "6GR_bCuTKwZa",
        "colab": {
          "base_uri": "https://localhost:8080/"
        },
        "outputId": "94025263-b538-4825-a2bd-a5ebdf2fece0"
      },
      "execution_count": 82,
      "outputs": [
        {
          "output_type": "execute_result",
          "data": {
            "text/plain": [
              "True"
            ]
          },
          "metadata": {},
          "execution_count": 82
        }
      ]
    },
    {
      "cell_type": "markdown",
      "source": [
        "# Training"
      ],
      "metadata": {
        "id": "c6k7rJKbToop"
      }
    },
    {
      "cell_type": "code",
      "source": [
        "learning_rate = 0.001\n",
        "num_epochs = 20"
      ],
      "metadata": {
        "id": "NfIJWnznTpri"
      },
      "execution_count": 87,
      "outputs": []
    },
    {
      "cell_type": "code",
      "source": [
        "criterion = nn.CrossEntropyLoss()\n",
        "optimizer = torch.optim.Adam(model.parameters(), lr = learning_rate)"
      ],
      "metadata": {
        "id": "d2U1MsCQT05d"
      },
      "execution_count": 88,
      "outputs": []
    },
    {
      "cell_type": "code",
      "source": [
        "n_total_steps = len(train_data_loader)\n",
        "n_total_steps"
      ],
      "metadata": {
        "colab": {
          "base_uri": "https://localhost:8080/"
        },
        "id": "9lVnYielT0zu",
        "outputId": "750d5331-4823-4240-9473-0cbe2f8bda6d"
      },
      "execution_count": 89,
      "outputs": [
        {
          "output_type": "execute_result",
          "data": {
            "text/plain": [
              "938"
            ]
          },
          "metadata": {},
          "execution_count": 89
        }
      ]
    },
    {
      "cell_type": "code",
      "source": [
        "for epoch in range(num_epochs):\n",
        "  with tqdm(train_data_loader) as tqdm_epoch:\n",
        "    for images, labels in tqdm_epoch:\n",
        "      tqdm_epoch.set_description(f\"Epoch {epoch+1}/{num_epochs}\")\n",
        "\n",
        "      images = images.to(device)\n",
        "      labels = labels.to(device)\n",
        "\n",
        "      # forwards pass\n",
        "      outputs = model(images)\n",
        "      loss = criterion(outputs, labels)\n",
        "\n",
        "      # backward pass\n",
        "      optimizer.zero_grad()\n",
        "      loss.backward()\n",
        "      optimizer.step()\n",
        "      tqdm_epoch.set_postfix(loss=loss.item())"
      ],
      "metadata": {
        "colab": {
          "base_uri": "https://localhost:8080/"
        },
        "id": "4hFvzndnT0td",
        "outputId": "fb4b6261-d8d7-49ad-eefc-541320fe3fa4"
      },
      "execution_count": 90,
      "outputs": [
        {
          "output_type": "stream",
          "name": "stderr",
          "text": [
            "Epoch 1/20: 100%|██████████| 938/938 [00:15<00:00, 58.87it/s, loss=0.78]\n",
            "Epoch 2/20: 100%|██████████| 938/938 [00:15<00:00, 60.51it/s, loss=0.341]\n",
            "Epoch 3/20: 100%|██████████| 938/938 [00:15<00:00, 60.19it/s, loss=0.319]\n",
            "Epoch 4/20: 100%|██████████| 938/938 [00:15<00:00, 61.47it/s, loss=0.197]\n",
            "Epoch 5/20: 100%|██████████| 938/938 [00:15<00:00, 60.31it/s, loss=0.498]\n",
            "Epoch 6/20: 100%|██████████| 938/938 [00:15<00:00, 61.07it/s, loss=0.0734]\n",
            "Epoch 7/20: 100%|██████████| 938/938 [00:15<00:00, 61.19it/s, loss=0.451]\n",
            "Epoch 8/20: 100%|██████████| 938/938 [00:15<00:00, 60.66it/s, loss=0.658]\n",
            "Epoch 9/20: 100%|██████████| 938/938 [00:15<00:00, 60.52it/s, loss=0.123]\n",
            "Epoch 10/20: 100%|██████████| 938/938 [00:15<00:00, 60.57it/s, loss=0.708]\n",
            "Epoch 11/20: 100%|██████████| 938/938 [00:15<00:00, 60.90it/s, loss=0.26]\n",
            "Epoch 12/20: 100%|██████████| 938/938 [00:16<00:00, 58.24it/s, loss=0.172]\n",
            "Epoch 13/20: 100%|██████████| 938/938 [00:15<00:00, 59.51it/s, loss=0.342]\n",
            "Epoch 14/20: 100%|██████████| 938/938 [00:15<00:00, 59.76it/s, loss=0.118]\n",
            "Epoch 15/20: 100%|██████████| 938/938 [00:15<00:00, 59.80it/s, loss=0.305]\n",
            "Epoch 16/20: 100%|██████████| 938/938 [00:15<00:00, 60.15it/s, loss=0.149]\n",
            "Epoch 17/20: 100%|██████████| 938/938 [00:15<00:00, 59.71it/s, loss=0.229]\n",
            "Epoch 18/20: 100%|██████████| 938/938 [00:15<00:00, 59.45it/s, loss=0.347]\n",
            "Epoch 19/20: 100%|██████████| 938/938 [00:15<00:00, 59.54it/s, loss=0.356]\n",
            "Epoch 20/20: 100%|██████████| 938/938 [00:15<00:00, 60.26it/s, loss=0.244]\n"
          ]
        }
      ]
    },
    {
      "cell_type": "code",
      "source": [
        "## save trained model -\n",
        "os.makedirs(\"CNN\", exist_ok=True)\n",
        "model_file = os.path.join(\"CNN\", 'CNN_model.pth')\n",
        "torch.save(model, model_file)"
      ],
      "metadata": {
        "id": "0E_0vi8FT0nl"
      },
      "execution_count": 91,
      "outputs": []
    },
    {
      "cell_type": "code",
      "source": [
        ""
      ],
      "metadata": {
        "id": "nxYnf5dKWshM"
      },
      "execution_count": 91,
      "outputs": []
    }
  ]
}