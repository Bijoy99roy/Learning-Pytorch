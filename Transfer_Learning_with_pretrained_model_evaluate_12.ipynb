{
  "nbformat": 4,
  "nbformat_minor": 0,
  "metadata": {
    "colab": {
      "name": "Transfer Learning with pretrained model evaluate 12.ipynb",
      "provenance": [],
      "authorship_tag": "ABX9TyPtP0vXuiObJC1aliT6i7lL"
    },
    "kernelspec": {
      "name": "python3",
      "display_name": "Python 3"
    },
    "language_info": {
      "name": "python"
    },
    "widgets": {
      "application/vnd.jupyter.widget-state+json": {
        "fd0931d222bc47f5b0e33e9094fde669": {
          "model_module": "@jupyter-widgets/controls",
          "model_name": "HBoxModel",
          "model_module_version": "1.5.0",
          "state": {
            "_dom_classes": [],
            "_model_module": "@jupyter-widgets/controls",
            "_model_module_version": "1.5.0",
            "_model_name": "HBoxModel",
            "_view_count": null,
            "_view_module": "@jupyter-widgets/controls",
            "_view_module_version": "1.5.0",
            "_view_name": "HBoxView",
            "box_style": "",
            "children": [
              "IPY_MODEL_92445f1a8a3e4dbe9c722af72e835f2b",
              "IPY_MODEL_c53fa24f649b4a8a98d7403567204413",
              "IPY_MODEL_8c4e4358592f4d538288f6da53b64930"
            ],
            "layout": "IPY_MODEL_e642049d833146579fa9c96aba16d1c3"
          }
        },
        "92445f1a8a3e4dbe9c722af72e835f2b": {
          "model_module": "@jupyter-widgets/controls",
          "model_name": "HTMLModel",
          "model_module_version": "1.5.0",
          "state": {
            "_dom_classes": [],
            "_model_module": "@jupyter-widgets/controls",
            "_model_module_version": "1.5.0",
            "_model_name": "HTMLModel",
            "_view_count": null,
            "_view_module": "@jupyter-widgets/controls",
            "_view_module_version": "1.5.0",
            "_view_name": "HTMLView",
            "description": "",
            "description_tooltip": null,
            "layout": "IPY_MODEL_5c05f9a6bbf04e2190c128b665428b95",
            "placeholder": "​",
            "style": "IPY_MODEL_18d25c2263fd41cc96f0532088b75149",
            "value": "100%"
          }
        },
        "c53fa24f649b4a8a98d7403567204413": {
          "model_module": "@jupyter-widgets/controls",
          "model_name": "FloatProgressModel",
          "model_module_version": "1.5.0",
          "state": {
            "_dom_classes": [],
            "_model_module": "@jupyter-widgets/controls",
            "_model_module_version": "1.5.0",
            "_model_name": "FloatProgressModel",
            "_view_count": null,
            "_view_module": "@jupyter-widgets/controls",
            "_view_module_version": "1.5.0",
            "_view_name": "ProgressView",
            "bar_style": "success",
            "description": "",
            "description_tooltip": null,
            "layout": "IPY_MODEL_b0b44c229e24434aa1ce32e56144f5b0",
            "max": 244408911,
            "min": 0,
            "orientation": "horizontal",
            "style": "IPY_MODEL_d6064a9051e14bafae75582b5c1b2e31",
            "value": 244408911
          }
        },
        "8c4e4358592f4d538288f6da53b64930": {
          "model_module": "@jupyter-widgets/controls",
          "model_name": "HTMLModel",
          "model_module_version": "1.5.0",
          "state": {
            "_dom_classes": [],
            "_model_module": "@jupyter-widgets/controls",
            "_model_module_version": "1.5.0",
            "_model_name": "HTMLModel",
            "_view_count": null,
            "_view_module": "@jupyter-widgets/controls",
            "_view_module_version": "1.5.0",
            "_view_name": "HTMLView",
            "description": "",
            "description_tooltip": null,
            "layout": "IPY_MODEL_819166d236b64f18b489811e5a13a595",
            "placeholder": "​",
            "style": "IPY_MODEL_a8d5fdd86e854d4eb4d1353abcb5a488",
            "value": " 233M/233M [00:03&lt;00:00, 80.1MB/s]"
          }
        },
        "e642049d833146579fa9c96aba16d1c3": {
          "model_module": "@jupyter-widgets/base",
          "model_name": "LayoutModel",
          "model_module_version": "1.2.0",
          "state": {
            "_model_module": "@jupyter-widgets/base",
            "_model_module_version": "1.2.0",
            "_model_name": "LayoutModel",
            "_view_count": null,
            "_view_module": "@jupyter-widgets/base",
            "_view_module_version": "1.2.0",
            "_view_name": "LayoutView",
            "align_content": null,
            "align_items": null,
            "align_self": null,
            "border": null,
            "bottom": null,
            "display": null,
            "flex": null,
            "flex_flow": null,
            "grid_area": null,
            "grid_auto_columns": null,
            "grid_auto_flow": null,
            "grid_auto_rows": null,
            "grid_column": null,
            "grid_gap": null,
            "grid_row": null,
            "grid_template_areas": null,
            "grid_template_columns": null,
            "grid_template_rows": null,
            "height": null,
            "justify_content": null,
            "justify_items": null,
            "left": null,
            "margin": null,
            "max_height": null,
            "max_width": null,
            "min_height": null,
            "min_width": null,
            "object_fit": null,
            "object_position": null,
            "order": null,
            "overflow": null,
            "overflow_x": null,
            "overflow_y": null,
            "padding": null,
            "right": null,
            "top": null,
            "visibility": null,
            "width": null
          }
        },
        "5c05f9a6bbf04e2190c128b665428b95": {
          "model_module": "@jupyter-widgets/base",
          "model_name": "LayoutModel",
          "model_module_version": "1.2.0",
          "state": {
            "_model_module": "@jupyter-widgets/base",
            "_model_module_version": "1.2.0",
            "_model_name": "LayoutModel",
            "_view_count": null,
            "_view_module": "@jupyter-widgets/base",
            "_view_module_version": "1.2.0",
            "_view_name": "LayoutView",
            "align_content": null,
            "align_items": null,
            "align_self": null,
            "border": null,
            "bottom": null,
            "display": null,
            "flex": null,
            "flex_flow": null,
            "grid_area": null,
            "grid_auto_columns": null,
            "grid_auto_flow": null,
            "grid_auto_rows": null,
            "grid_column": null,
            "grid_gap": null,
            "grid_row": null,
            "grid_template_areas": null,
            "grid_template_columns": null,
            "grid_template_rows": null,
            "height": null,
            "justify_content": null,
            "justify_items": null,
            "left": null,
            "margin": null,
            "max_height": null,
            "max_width": null,
            "min_height": null,
            "min_width": null,
            "object_fit": null,
            "object_position": null,
            "order": null,
            "overflow": null,
            "overflow_x": null,
            "overflow_y": null,
            "padding": null,
            "right": null,
            "top": null,
            "visibility": null,
            "width": null
          }
        },
        "18d25c2263fd41cc96f0532088b75149": {
          "model_module": "@jupyter-widgets/controls",
          "model_name": "DescriptionStyleModel",
          "model_module_version": "1.5.0",
          "state": {
            "_model_module": "@jupyter-widgets/controls",
            "_model_module_version": "1.5.0",
            "_model_name": "DescriptionStyleModel",
            "_view_count": null,
            "_view_module": "@jupyter-widgets/base",
            "_view_module_version": "1.2.0",
            "_view_name": "StyleView",
            "description_width": ""
          }
        },
        "b0b44c229e24434aa1ce32e56144f5b0": {
          "model_module": "@jupyter-widgets/base",
          "model_name": "LayoutModel",
          "model_module_version": "1.2.0",
          "state": {
            "_model_module": "@jupyter-widgets/base",
            "_model_module_version": "1.2.0",
            "_model_name": "LayoutModel",
            "_view_count": null,
            "_view_module": "@jupyter-widgets/base",
            "_view_module_version": "1.2.0",
            "_view_name": "LayoutView",
            "align_content": null,
            "align_items": null,
            "align_self": null,
            "border": null,
            "bottom": null,
            "display": null,
            "flex": null,
            "flex_flow": null,
            "grid_area": null,
            "grid_auto_columns": null,
            "grid_auto_flow": null,
            "grid_auto_rows": null,
            "grid_column": null,
            "grid_gap": null,
            "grid_row": null,
            "grid_template_areas": null,
            "grid_template_columns": null,
            "grid_template_rows": null,
            "height": null,
            "justify_content": null,
            "justify_items": null,
            "left": null,
            "margin": null,
            "max_height": null,
            "max_width": null,
            "min_height": null,
            "min_width": null,
            "object_fit": null,
            "object_position": null,
            "order": null,
            "overflow": null,
            "overflow_x": null,
            "overflow_y": null,
            "padding": null,
            "right": null,
            "top": null,
            "visibility": null,
            "width": null
          }
        },
        "d6064a9051e14bafae75582b5c1b2e31": {
          "model_module": "@jupyter-widgets/controls",
          "model_name": "ProgressStyleModel",
          "model_module_version": "1.5.0",
          "state": {
            "_model_module": "@jupyter-widgets/controls",
            "_model_module_version": "1.5.0",
            "_model_name": "ProgressStyleModel",
            "_view_count": null,
            "_view_module": "@jupyter-widgets/base",
            "_view_module_version": "1.2.0",
            "_view_name": "StyleView",
            "bar_color": null,
            "description_width": ""
          }
        },
        "819166d236b64f18b489811e5a13a595": {
          "model_module": "@jupyter-widgets/base",
          "model_name": "LayoutModel",
          "model_module_version": "1.2.0",
          "state": {
            "_model_module": "@jupyter-widgets/base",
            "_model_module_version": "1.2.0",
            "_model_name": "LayoutModel",
            "_view_count": null,
            "_view_module": "@jupyter-widgets/base",
            "_view_module_version": "1.2.0",
            "_view_name": "LayoutView",
            "align_content": null,
            "align_items": null,
            "align_self": null,
            "border": null,
            "bottom": null,
            "display": null,
            "flex": null,
            "flex_flow": null,
            "grid_area": null,
            "grid_auto_columns": null,
            "grid_auto_flow": null,
            "grid_auto_rows": null,
            "grid_column": null,
            "grid_gap": null,
            "grid_row": null,
            "grid_template_areas": null,
            "grid_template_columns": null,
            "grid_template_rows": null,
            "height": null,
            "justify_content": null,
            "justify_items": null,
            "left": null,
            "margin": null,
            "max_height": null,
            "max_width": null,
            "min_height": null,
            "min_width": null,
            "object_fit": null,
            "object_position": null,
            "order": null,
            "overflow": null,
            "overflow_x": null,
            "overflow_y": null,
            "padding": null,
            "right": null,
            "top": null,
            "visibility": null,
            "width": null
          }
        },
        "a8d5fdd86e854d4eb4d1353abcb5a488": {
          "model_module": "@jupyter-widgets/controls",
          "model_name": "DescriptionStyleModel",
          "model_module_version": "1.5.0",
          "state": {
            "_model_module": "@jupyter-widgets/controls",
            "_model_module_version": "1.5.0",
            "_model_name": "DescriptionStyleModel",
            "_view_count": null,
            "_view_module": "@jupyter-widgets/base",
            "_view_module_version": "1.2.0",
            "_view_name": "StyleView",
            "description_width": ""
          }
        }
      }
    }
  },
  "cells": [
    {
      "cell_type": "code",
      "execution_count": 1,
      "metadata": {
        "id": "-pLr_aynpbaB"
      },
      "outputs": [],
      "source": [
        "import os\n",
        "import torch\n",
        "import torch.nn as nn\n",
        "from torchvision import models, datasets, transforms\n",
        "from torch.utils.data import DataLoader\n",
        "import pandas as pd\n",
        "import numpy as np\n",
        "import matplotlib.pyplot as plt\n",
        "import seaborn as sns\n",
        "from sklearn.metrics import confusion_matrix\n",
        "import urllib.request as req"
      ]
    },
    {
      "cell_type": "markdown",
      "source": [
        "## Dowanload data"
      ],
      "metadata": {
        "id": "tczwWKAnqRzO"
      }
    },
    {
      "cell_type": "code",
      "source": [
        "data_url = \"https://download.pytorch.org/tutorial/hymenoptera_data.zip\""
      ],
      "metadata": {
        "id": "hkKXSilZqQtd"
      },
      "execution_count": 2,
      "outputs": []
    },
    {
      "cell_type": "code",
      "source": [
        "# create a directory\n",
        "\n",
        "def create_dirs(dir_path):\n",
        "  os.makedirs(dir_path, exist_ok=True)\n",
        "  print(f\"{dir_path} directory created\")\n",
        "\n",
        "ROOT_DATA_DIR = 'hymenoptera_data'\n",
        "create_dirs(ROOT_DATA_DIR)"
      ],
      "metadata": {
        "colab": {
          "base_uri": "https://localhost:8080/"
        },
        "id": "klho3UHZqYSJ",
        "outputId": "67acd7e6-37f2-4ceb-928b-2b11fa7cfc76"
      },
      "execution_count": 3,
      "outputs": [
        {
          "output_type": "stream",
          "name": "stdout",
          "text": [
            "hymenoptera_data directory created\n"
          ]
        }
      ]
    },
    {
      "cell_type": "code",
      "source": [
        "data_zip_file = 'data.zip'\n",
        "data_zip_path = os.path.join(ROOT_DATA_DIR, data_zip_file)\n",
        "\n",
        "if not os.path.isfile(data_zip_path):\n",
        "  print('downlaoding file...')\n",
        "  filename, headers = req.urlretrieve(data_url, data_zip_path)\n",
        "  print(f'filename: {filename} created with info \\n{headers}')\n",
        "else:\n",
        "  print('file is already present')"
      ],
      "metadata": {
        "colab": {
          "base_uri": "https://localhost:8080/"
        },
        "id": "PIsxyWmIqx1v",
        "outputId": "c480c6a9-393d-4ca9-8bcf-ec662e15d441"
      },
      "execution_count": 4,
      "outputs": [
        {
          "output_type": "stream",
          "name": "stdout",
          "text": [
            "downlaoding file...\n",
            "filename: hymenoptera_data/data.zip created with info \n",
            "Content-Type: application/zip\n",
            "Content-Length: 47286322\n",
            "Connection: close\n",
            "Date: Mon, 04 Jul 2022 17:46:08 GMT\n",
            "Last-Modified: Wed, 15 Mar 2017 18:46:00 GMT\n",
            "ETag: \"5f8c32a6554f6acb4d649776e7735e48\"\n",
            "x-amz-version-id: null\n",
            "Accept-Ranges: bytes\n",
            "Server: AmazonS3\n",
            "X-Cache: Hit from cloudfront\n",
            "Via: 1.1 7aea57f307e043300c172e8eaaa89c9c.cloudfront.net (CloudFront)\n",
            "X-Amz-Cf-Pop: MIA3-P4\n",
            "X-Amz-Cf-Id: fh8gYMjTh7dR2PHbmZDs-Aqx8Pc6oBjKk2uJFUrLAup9l-mqDBqvMA==\n",
            "Age: 2926\n",
            "\n",
            "\n"
          ]
        }
      ]
    },
    {
      "cell_type": "markdown",
      "source": [
        "# Unzip data"
      ],
      "metadata": {
        "id": "zg-gFrcfrdWV"
      }
    },
    {
      "cell_type": "code",
      "source": [
        "\n",
        "from zipfile import ZipFile\n",
        "\n",
        "unzip_data_dirname = \"unzip_data_dir\"\n",
        "unzip_data_dir = os.path.join(ROOT_DATA_DIR, unzip_data_dirname)\n",
        "\n",
        "if not os.path.exists(unzip_data_dir):\n",
        "    os.makedirs(unzip_data_dir, exist_ok=True)\n",
        "    with ZipFile(data_zip_path) as f:\n",
        "        f.extractall(unzip_data_dir)\n",
        "else:\n",
        "    print(f\"data already extacted\")"
      ],
      "metadata": {
        "id": "zJjJUOQYrcWE"
      },
      "execution_count": 5,
      "outputs": []
    },
    {
      "cell_type": "markdown",
      "source": [
        "# Create data loaders"
      ],
      "metadata": {
        "id": "LsdCOXnPsUba"
      }
    },
    {
      "cell_type": "code",
      "source": [
        "from pathlib import Path"
      ],
      "metadata": {
        "id": "RYUqOPhvsLjU"
      },
      "execution_count": 6,
      "outputs": []
    },
    {
      "cell_type": "code",
      "source": [
        "train_path = Path(\"hymenoptera_data/unzip_data_dir/hymenoptera_data/train\")\n",
        "test_path = Path(\"hymenoptera_data/unzip_data_dir/hymenoptera_data/val\")"
      ],
      "metadata": {
        "id": "tEjTYIGcsY06"
      },
      "execution_count": 7,
      "outputs": []
    },
    {
      "cell_type": "code",
      "source": [
        "\n",
        "img_size = (224, 224)"
      ],
      "metadata": {
        "id": "Qrga31W6sZ9s"
      },
      "execution_count": 8,
      "outputs": []
    },
    {
      "cell_type": "code",
      "source": [
        "mean = torch.tensor([0.5, 0.5, 0.5])\n",
        "std = torch.tensor([0.5, 0.5, 0.5])"
      ],
      "metadata": {
        "id": "l6mOIWn9sbwm"
      },
      "execution_count": 9,
      "outputs": []
    },
    {
      "cell_type": "markdown",
      "source": [
        "# Transformation"
      ],
      "metadata": {
        "id": "x5grwyNkseH4"
      }
    },
    {
      "cell_type": "code",
      "source": [
        "train_transforms = transforms.Compose([\n",
        "    transforms.Resize(img_size),\n",
        "    transforms.RandomRotation(degrees=20),\n",
        "    transforms.ToTensor(),\n",
        "    transforms.Normalize(mean, std)\n",
        "])\n",
        "\n",
        "test_transforms = transforms.Compose([\n",
        "    transforms.Resize(img_size),\n",
        "    transforms.ToTensor(),\n",
        "    transforms.Normalize(mean, std)\n",
        "])"
      ],
      "metadata": {
        "id": "oVGKcY3asdAV"
      },
      "execution_count": 10,
      "outputs": []
    },
    {
      "cell_type": "code",
      "source": [
        "\n",
        "train_data = datasets.ImageFolder(root=train_path, transform=train_transforms)\n",
        "test_data = datasets.ImageFolder(root=test_path, transform=test_transforms)"
      ],
      "metadata": {
        "id": "5lMPvRtls0ov"
      },
      "execution_count": 11,
      "outputs": []
    },
    {
      "cell_type": "code",
      "source": [
        "train_data.class_to_idx"
      ],
      "metadata": {
        "colab": {
          "base_uri": "https://localhost:8080/"
        },
        "id": "kUCIZcxBtMSR",
        "outputId": "b44bc49f-d821-489e-9ef0-5de71b3d1327"
      },
      "execution_count": 12,
      "outputs": [
        {
          "output_type": "execute_result",
          "data": {
            "text/plain": [
              "{'ants': 0, 'bees': 1}"
            ]
          },
          "metadata": {},
          "execution_count": 12
        }
      ]
    },
    {
      "cell_type": "code",
      "source": [
        "label_map = train_data.class_to_idx\n",
        "label_map"
      ],
      "metadata": {
        "colab": {
          "base_uri": "https://localhost:8080/"
        },
        "id": "bTBt71druor1",
        "outputId": "9e2ce1d2-d03e-4a28-db31-4ad923bca14c"
      },
      "execution_count": 13,
      "outputs": [
        {
          "output_type": "execute_result",
          "data": {
            "text/plain": [
              "{'ants': 0, 'bees': 1}"
            ]
          },
          "metadata": {},
          "execution_count": 13
        }
      ]
    },
    {
      "cell_type": "code",
      "source": [
        "train_data"
      ],
      "metadata": {
        "colab": {
          "base_uri": "https://localhost:8080/"
        },
        "id": "LephSD9iuu7L",
        "outputId": "db2906d9-8176-4339-ae27-26ae11a333db"
      },
      "execution_count": 14,
      "outputs": [
        {
          "output_type": "execute_result",
          "data": {
            "text/plain": [
              "Dataset ImageFolder\n",
              "    Number of datapoints: 244\n",
              "    Root location: hymenoptera_data/unzip_data_dir/hymenoptera_data/train\n",
              "    StandardTransform\n",
              "Transform: Compose(\n",
              "               Resize(size=(224, 224), interpolation=bilinear, max_size=None, antialias=None)\n",
              "               RandomRotation(degrees=[-20.0, 20.0], interpolation=nearest, expand=False, fill=0)\n",
              "               ToTensor()\n",
              "               Normalize(mean=tensor([0.5000, 0.5000, 0.5000]), std=tensor([0.5000, 0.5000, 0.5000]))\n",
              "           )"
            ]
          },
          "metadata": {},
          "execution_count": 14
        }
      ]
    },
    {
      "cell_type": "code",
      "source": [
        "batch_size = 64\n",
        "train_loader = DataLoader(train_data, shuffle=True, batch_size=batch_size)\n",
        "test_loader = DataLoader(test_data, shuffle=False, batch_size=batch_size)"
      ],
      "metadata": {
        "id": "4DAc-ma4uwzG"
      },
      "execution_count": 15,
      "outputs": []
    },
    {
      "cell_type": "code",
      "source": [
        "data = next(iter(train_loader))"
      ],
      "metadata": {
        "id": "0zjnqkWwvCri"
      },
      "execution_count": 16,
      "outputs": []
    },
    {
      "cell_type": "code",
      "source": [
        "len(data)"
      ],
      "metadata": {
        "colab": {
          "base_uri": "https://localhost:8080/"
        },
        "id": "ljgx_K8uvFzQ",
        "outputId": "36c92922-10f4-4462-fe19-ab7e0d04b6be"
      },
      "execution_count": 17,
      "outputs": [
        {
          "output_type": "execute_result",
          "data": {
            "text/plain": [
              "2"
            ]
          },
          "metadata": {},
          "execution_count": 17
        }
      ]
    },
    {
      "cell_type": "code",
      "source": [
        "images, labels = data"
      ],
      "metadata": {
        "id": "TI6qNnsWvJb8"
      },
      "execution_count": 18,
      "outputs": []
    },
    {
      "cell_type": "code",
      "source": [
        "images.shape"
      ],
      "metadata": {
        "id": "lm4_VZ02vLfW",
        "outputId": "2cf79a40-18eb-4c63-d3a9-2b423fa3b2cb",
        "colab": {
          "base_uri": "https://localhost:8080/"
        }
      },
      "execution_count": 19,
      "outputs": [
        {
          "output_type": "execute_result",
          "data": {
            "text/plain": [
              "torch.Size([64, 3, 224, 224])"
            ]
          },
          "metadata": {},
          "execution_count": 19
        }
      ]
    },
    {
      "cell_type": "markdown",
      "source": [
        "# download pretrained model"
      ],
      "metadata": {
        "id": "Uz6Bjrc78rp7"
      }
    },
    {
      "cell_type": "code",
      "source": [
        "model = models.alexnet(pretrained=True)"
      ],
      "metadata": {
        "id": "z4Gdw7uwvMra",
        "colab": {
          "base_uri": "https://localhost:8080/",
          "height": 86,
          "referenced_widgets": [
            "fd0931d222bc47f5b0e33e9094fde669",
            "92445f1a8a3e4dbe9c722af72e835f2b",
            "c53fa24f649b4a8a98d7403567204413",
            "8c4e4358592f4d538288f6da53b64930",
            "e642049d833146579fa9c96aba16d1c3",
            "5c05f9a6bbf04e2190c128b665428b95",
            "18d25c2263fd41cc96f0532088b75149",
            "b0b44c229e24434aa1ce32e56144f5b0",
            "d6064a9051e14bafae75582b5c1b2e31",
            "819166d236b64f18b489811e5a13a595",
            "a8d5fdd86e854d4eb4d1353abcb5a488"
          ]
        },
        "outputId": "b16a500b-bd6e-4f74-fca2-c239fb80f7b3"
      },
      "execution_count": 20,
      "outputs": [
        {
          "output_type": "stream",
          "name": "stderr",
          "text": [
            "Downloading: \"https://download.pytorch.org/models/alexnet-owt-7be5be79.pth\" to /root/.cache/torch/hub/checkpoints/alexnet-owt-7be5be79.pth\n"
          ]
        },
        {
          "output_type": "display_data",
          "data": {
            "text/plain": [
              "  0%|          | 0.00/233M [00:00<?, ?B/s]"
            ],
            "application/vnd.jupyter.widget-view+json": {
              "version_major": 2,
              "version_minor": 0,
              "model_id": "fd0931d222bc47f5b0e33e9094fde669"
            }
          },
          "metadata": {}
        }
      ]
    },
    {
      "cell_type": "code",
      "source": [
        "print(model)"
      ],
      "metadata": {
        "colab": {
          "base_uri": "https://localhost:8080/"
        },
        "id": "GW9PgwvF83mu",
        "outputId": "820156a5-feb4-448d-d781-e594c54b6c1e"
      },
      "execution_count": 21,
      "outputs": [
        {
          "output_type": "stream",
          "name": "stdout",
          "text": [
            "AlexNet(\n",
            "  (features): Sequential(\n",
            "    (0): Conv2d(3, 64, kernel_size=(11, 11), stride=(4, 4), padding=(2, 2))\n",
            "    (1): ReLU(inplace=True)\n",
            "    (2): MaxPool2d(kernel_size=3, stride=2, padding=0, dilation=1, ceil_mode=False)\n",
            "    (3): Conv2d(64, 192, kernel_size=(5, 5), stride=(1, 1), padding=(2, 2))\n",
            "    (4): ReLU(inplace=True)\n",
            "    (5): MaxPool2d(kernel_size=3, stride=2, padding=0, dilation=1, ceil_mode=False)\n",
            "    (6): Conv2d(192, 384, kernel_size=(3, 3), stride=(1, 1), padding=(1, 1))\n",
            "    (7): ReLU(inplace=True)\n",
            "    (8): Conv2d(384, 256, kernel_size=(3, 3), stride=(1, 1), padding=(1, 1))\n",
            "    (9): ReLU(inplace=True)\n",
            "    (10): Conv2d(256, 256, kernel_size=(3, 3), stride=(1, 1), padding=(1, 1))\n",
            "    (11): ReLU(inplace=True)\n",
            "    (12): MaxPool2d(kernel_size=3, stride=2, padding=0, dilation=1, ceil_mode=False)\n",
            "  )\n",
            "  (avgpool): AdaptiveAvgPool2d(output_size=(6, 6))\n",
            "  (classifier): Sequential(\n",
            "    (0): Dropout(p=0.5, inplace=False)\n",
            "    (1): Linear(in_features=9216, out_features=4096, bias=True)\n",
            "    (2): ReLU(inplace=True)\n",
            "    (3): Dropout(p=0.5, inplace=False)\n",
            "    (4): Linear(in_features=4096, out_features=4096, bias=True)\n",
            "    (5): ReLU(inplace=True)\n",
            "    (6): Linear(in_features=4096, out_features=1000, bias=True)\n",
            "  )\n",
            ")\n"
          ]
        }
      ]
    },
    {
      "cell_type": "code",
      "source": [
        "def count_both_params(model):\n",
        "  model_params = {'Modules': list(), 'Parameters': list()}\n",
        "  total = {'trainable': 0, 'non_trainable': 0}\n",
        "\n",
        "  for name, parameters in model.named_parameters():\n",
        "    params = parameters.numel()\n",
        "    if not parameters.requires_grad:\n",
        "      total['non_trainable'] += params\n",
        "      continue\n",
        "\n",
        "    model_params['Modules'].append(name)\n",
        "    model_params['Parameters'].append(params)\n",
        "    total['trainable'] += params\n",
        "\n",
        "  df = pd.DataFrame(model_params)\n",
        "  df = df.style.set_caption(f'''Total trainable: {total['trainable']}, Non trainable: {total['non_trainable']}''')\n",
        "  return df\n",
        "\n",
        "count_both_params(model)"
      ],
      "metadata": {
        "colab": {
          "base_uri": "https://localhost:8080/",
          "height": 586
        },
        "id": "BwaIP1RQ888e",
        "outputId": "0a40dbeb-4f30-4130-c0c5-458989fa806d"
      },
      "execution_count": 22,
      "outputs": [
        {
          "output_type": "execute_result",
          "data": {
            "text/plain": [
              "<pandas.io.formats.style.Styler at 0x7f14e0ce4e50>"
            ],
            "text/html": [
              "<style type=\"text/css\">\n",
              "</style>\n",
              "<table id=\"T_ab064_\" class=\"dataframe\">\n",
              "  <caption>Total trainable: 61100840, Non trainable: 0</caption>\n",
              "  <thead>\n",
              "    <tr>\n",
              "      <th class=\"blank level0\" >&nbsp;</th>\n",
              "      <th class=\"col_heading level0 col0\" >Modules</th>\n",
              "      <th class=\"col_heading level0 col1\" >Parameters</th>\n",
              "    </tr>\n",
              "  </thead>\n",
              "  <tbody>\n",
              "    <tr>\n",
              "      <th id=\"T_ab064_level0_row0\" class=\"row_heading level0 row0\" >0</th>\n",
              "      <td id=\"T_ab064_row0_col0\" class=\"data row0 col0\" >features.0.weight</td>\n",
              "      <td id=\"T_ab064_row0_col1\" class=\"data row0 col1\" >23232</td>\n",
              "    </tr>\n",
              "    <tr>\n",
              "      <th id=\"T_ab064_level0_row1\" class=\"row_heading level0 row1\" >1</th>\n",
              "      <td id=\"T_ab064_row1_col0\" class=\"data row1 col0\" >features.0.bias</td>\n",
              "      <td id=\"T_ab064_row1_col1\" class=\"data row1 col1\" >64</td>\n",
              "    </tr>\n",
              "    <tr>\n",
              "      <th id=\"T_ab064_level0_row2\" class=\"row_heading level0 row2\" >2</th>\n",
              "      <td id=\"T_ab064_row2_col0\" class=\"data row2 col0\" >features.3.weight</td>\n",
              "      <td id=\"T_ab064_row2_col1\" class=\"data row2 col1\" >307200</td>\n",
              "    </tr>\n",
              "    <tr>\n",
              "      <th id=\"T_ab064_level0_row3\" class=\"row_heading level0 row3\" >3</th>\n",
              "      <td id=\"T_ab064_row3_col0\" class=\"data row3 col0\" >features.3.bias</td>\n",
              "      <td id=\"T_ab064_row3_col1\" class=\"data row3 col1\" >192</td>\n",
              "    </tr>\n",
              "    <tr>\n",
              "      <th id=\"T_ab064_level0_row4\" class=\"row_heading level0 row4\" >4</th>\n",
              "      <td id=\"T_ab064_row4_col0\" class=\"data row4 col0\" >features.6.weight</td>\n",
              "      <td id=\"T_ab064_row4_col1\" class=\"data row4 col1\" >663552</td>\n",
              "    </tr>\n",
              "    <tr>\n",
              "      <th id=\"T_ab064_level0_row5\" class=\"row_heading level0 row5\" >5</th>\n",
              "      <td id=\"T_ab064_row5_col0\" class=\"data row5 col0\" >features.6.bias</td>\n",
              "      <td id=\"T_ab064_row5_col1\" class=\"data row5 col1\" >384</td>\n",
              "    </tr>\n",
              "    <tr>\n",
              "      <th id=\"T_ab064_level0_row6\" class=\"row_heading level0 row6\" >6</th>\n",
              "      <td id=\"T_ab064_row6_col0\" class=\"data row6 col0\" >features.8.weight</td>\n",
              "      <td id=\"T_ab064_row6_col1\" class=\"data row6 col1\" >884736</td>\n",
              "    </tr>\n",
              "    <tr>\n",
              "      <th id=\"T_ab064_level0_row7\" class=\"row_heading level0 row7\" >7</th>\n",
              "      <td id=\"T_ab064_row7_col0\" class=\"data row7 col0\" >features.8.bias</td>\n",
              "      <td id=\"T_ab064_row7_col1\" class=\"data row7 col1\" >256</td>\n",
              "    </tr>\n",
              "    <tr>\n",
              "      <th id=\"T_ab064_level0_row8\" class=\"row_heading level0 row8\" >8</th>\n",
              "      <td id=\"T_ab064_row8_col0\" class=\"data row8 col0\" >features.10.weight</td>\n",
              "      <td id=\"T_ab064_row8_col1\" class=\"data row8 col1\" >589824</td>\n",
              "    </tr>\n",
              "    <tr>\n",
              "      <th id=\"T_ab064_level0_row9\" class=\"row_heading level0 row9\" >9</th>\n",
              "      <td id=\"T_ab064_row9_col0\" class=\"data row9 col0\" >features.10.bias</td>\n",
              "      <td id=\"T_ab064_row9_col1\" class=\"data row9 col1\" >256</td>\n",
              "    </tr>\n",
              "    <tr>\n",
              "      <th id=\"T_ab064_level0_row10\" class=\"row_heading level0 row10\" >10</th>\n",
              "      <td id=\"T_ab064_row10_col0\" class=\"data row10 col0\" >classifier.1.weight</td>\n",
              "      <td id=\"T_ab064_row10_col1\" class=\"data row10 col1\" >37748736</td>\n",
              "    </tr>\n",
              "    <tr>\n",
              "      <th id=\"T_ab064_level0_row11\" class=\"row_heading level0 row11\" >11</th>\n",
              "      <td id=\"T_ab064_row11_col0\" class=\"data row11 col0\" >classifier.1.bias</td>\n",
              "      <td id=\"T_ab064_row11_col1\" class=\"data row11 col1\" >4096</td>\n",
              "    </tr>\n",
              "    <tr>\n",
              "      <th id=\"T_ab064_level0_row12\" class=\"row_heading level0 row12\" >12</th>\n",
              "      <td id=\"T_ab064_row12_col0\" class=\"data row12 col0\" >classifier.4.weight</td>\n",
              "      <td id=\"T_ab064_row12_col1\" class=\"data row12 col1\" >16777216</td>\n",
              "    </tr>\n",
              "    <tr>\n",
              "      <th id=\"T_ab064_level0_row13\" class=\"row_heading level0 row13\" >13</th>\n",
              "      <td id=\"T_ab064_row13_col0\" class=\"data row13 col0\" >classifier.4.bias</td>\n",
              "      <td id=\"T_ab064_row13_col1\" class=\"data row13 col1\" >4096</td>\n",
              "    </tr>\n",
              "    <tr>\n",
              "      <th id=\"T_ab064_level0_row14\" class=\"row_heading level0 row14\" >14</th>\n",
              "      <td id=\"T_ab064_row14_col0\" class=\"data row14 col0\" >classifier.6.weight</td>\n",
              "      <td id=\"T_ab064_row14_col1\" class=\"data row14 col1\" >4096000</td>\n",
              "    </tr>\n",
              "    <tr>\n",
              "      <th id=\"T_ab064_level0_row15\" class=\"row_heading level0 row15\" >15</th>\n",
              "      <td id=\"T_ab064_row15_col0\" class=\"data row15 col0\" >classifier.6.bias</td>\n",
              "      <td id=\"T_ab064_row15_col1\" class=\"data row15 col1\" >1000</td>\n",
              "    </tr>\n",
              "  </tbody>\n",
              "</table>\n"
            ]
          },
          "metadata": {},
          "execution_count": 22
        }
      ]
    },
    {
      "cell_type": "code",
      "source": [
        "# Freezing all the model layers\n",
        "\n",
        "for parameters in model.parameters():\n",
        "  parameters.requires_grad = False"
      ],
      "metadata": {
        "id": "8tht_Iky_Rnc"
      },
      "execution_count": 23,
      "outputs": []
    },
    {
      "cell_type": "code",
      "source": [
        "count_both_params(model)"
      ],
      "metadata": {
        "colab": {
          "base_uri": "https://localhost:8080/",
          "height": 84
        },
        "id": "nwe3m9pV_j_m",
        "outputId": "265d2955-cf27-421a-dae6-80fb4103e7eb"
      },
      "execution_count": 24,
      "outputs": [
        {
          "output_type": "execute_result",
          "data": {
            "text/plain": [
              "<pandas.io.formats.style.Styler at 0x7f14e0ce4550>"
            ],
            "text/html": [
              "<style type=\"text/css\">\n",
              "</style>\n",
              "<table id=\"T_0e67f_\" class=\"dataframe\">\n",
              "  <caption>Total trainable: 0, Non trainable: 61100840</caption>\n",
              "  <thead>\n",
              "    <tr>\n",
              "      <th class=\"blank level0\" >&nbsp;</th>\n",
              "      <th class=\"col_heading level0 col0\" >Modules</th>\n",
              "      <th class=\"col_heading level0 col1\" >Parameters</th>\n",
              "    </tr>\n",
              "  </thead>\n",
              "  <tbody>\n",
              "  </tbody>\n",
              "</table>\n"
            ]
          },
          "metadata": {},
          "execution_count": 24
        }
      ]
    },
    {
      "cell_type": "code",
      "source": [
        "model.classifier"
      ],
      "metadata": {
        "colab": {
          "base_uri": "https://localhost:8080/"
        },
        "id": "O1i5Huxu_z48",
        "outputId": "4491542b-06a3-4a6c-c017-a2866d6e7646"
      },
      "execution_count": 25,
      "outputs": [
        {
          "output_type": "execute_result",
          "data": {
            "text/plain": [
              "Sequential(\n",
              "  (0): Dropout(p=0.5, inplace=False)\n",
              "  (1): Linear(in_features=9216, out_features=4096, bias=True)\n",
              "  (2): ReLU(inplace=True)\n",
              "  (3): Dropout(p=0.5, inplace=False)\n",
              "  (4): Linear(in_features=4096, out_features=4096, bias=True)\n",
              "  (5): ReLU(inplace=True)\n",
              "  (6): Linear(in_features=4096, out_features=1000, bias=True)\n",
              ")"
            ]
          },
          "metadata": {},
          "execution_count": 25
        }
      ]
    },
    {
      "cell_type": "code",
      "source": [
        "model.classifier = nn.Sequential(\n",
        "    nn.Linear(in_features=9216, out_features=100, bias=True),\n",
        "    nn.ReLU(),\n",
        "    nn.Dropout(p=0.5, inplace=False),\n",
        "    nn.Linear(in_features=100, out_features=2, bias=True)\n",
        ")"
      ],
      "metadata": {
        "id": "dSnlukMD_4Jg"
      },
      "execution_count": 26,
      "outputs": []
    },
    {
      "cell_type": "code",
      "source": [
        "print(model)"
      ],
      "metadata": {
        "colab": {
          "base_uri": "https://localhost:8080/"
        },
        "id": "4D3erVj6AYo6",
        "outputId": "8f899366-94f1-401c-ab6b-ef220b6bd7c8"
      },
      "execution_count": 27,
      "outputs": [
        {
          "output_type": "stream",
          "name": "stdout",
          "text": [
            "AlexNet(\n",
            "  (features): Sequential(\n",
            "    (0): Conv2d(3, 64, kernel_size=(11, 11), stride=(4, 4), padding=(2, 2))\n",
            "    (1): ReLU(inplace=True)\n",
            "    (2): MaxPool2d(kernel_size=3, stride=2, padding=0, dilation=1, ceil_mode=False)\n",
            "    (3): Conv2d(64, 192, kernel_size=(5, 5), stride=(1, 1), padding=(2, 2))\n",
            "    (4): ReLU(inplace=True)\n",
            "    (5): MaxPool2d(kernel_size=3, stride=2, padding=0, dilation=1, ceil_mode=False)\n",
            "    (6): Conv2d(192, 384, kernel_size=(3, 3), stride=(1, 1), padding=(1, 1))\n",
            "    (7): ReLU(inplace=True)\n",
            "    (8): Conv2d(384, 256, kernel_size=(3, 3), stride=(1, 1), padding=(1, 1))\n",
            "    (9): ReLU(inplace=True)\n",
            "    (10): Conv2d(256, 256, kernel_size=(3, 3), stride=(1, 1), padding=(1, 1))\n",
            "    (11): ReLU(inplace=True)\n",
            "    (12): MaxPool2d(kernel_size=3, stride=2, padding=0, dilation=1, ceil_mode=False)\n",
            "  )\n",
            "  (avgpool): AdaptiveAvgPool2d(output_size=(6, 6))\n",
            "  (classifier): Sequential(\n",
            "    (0): Linear(in_features=9216, out_features=100, bias=True)\n",
            "    (1): ReLU()\n",
            "    (2): Dropout(p=0.5, inplace=False)\n",
            "    (3): Linear(in_features=100, out_features=2, bias=True)\n",
            "  )\n",
            ")\n"
          ]
        }
      ]
    },
    {
      "cell_type": "code",
      "source": [
        "count_both_params(model)"
      ],
      "metadata": {
        "colab": {
          "base_uri": "https://localhost:8080/",
          "height": 209
        },
        "id": "ui4BiKSWAaSo",
        "outputId": "60015ee1-82be-4c1a-b5be-c012f038dd8d"
      },
      "execution_count": 28,
      "outputs": [
        {
          "output_type": "execute_result",
          "data": {
            "text/plain": [
              "<pandas.io.formats.style.Styler at 0x7f14e09b1590>"
            ],
            "text/html": [
              "<style type=\"text/css\">\n",
              "</style>\n",
              "<table id=\"T_acad9_\" class=\"dataframe\">\n",
              "  <caption>Total trainable: 921902, Non trainable: 2469696</caption>\n",
              "  <thead>\n",
              "    <tr>\n",
              "      <th class=\"blank level0\" >&nbsp;</th>\n",
              "      <th class=\"col_heading level0 col0\" >Modules</th>\n",
              "      <th class=\"col_heading level0 col1\" >Parameters</th>\n",
              "    </tr>\n",
              "  </thead>\n",
              "  <tbody>\n",
              "    <tr>\n",
              "      <th id=\"T_acad9_level0_row0\" class=\"row_heading level0 row0\" >0</th>\n",
              "      <td id=\"T_acad9_row0_col0\" class=\"data row0 col0\" >classifier.0.weight</td>\n",
              "      <td id=\"T_acad9_row0_col1\" class=\"data row0 col1\" >921600</td>\n",
              "    </tr>\n",
              "    <tr>\n",
              "      <th id=\"T_acad9_level0_row1\" class=\"row_heading level0 row1\" >1</th>\n",
              "      <td id=\"T_acad9_row1_col0\" class=\"data row1 col0\" >classifier.0.bias</td>\n",
              "      <td id=\"T_acad9_row1_col1\" class=\"data row1 col1\" >100</td>\n",
              "    </tr>\n",
              "    <tr>\n",
              "      <th id=\"T_acad9_level0_row2\" class=\"row_heading level0 row2\" >2</th>\n",
              "      <td id=\"T_acad9_row2_col0\" class=\"data row2 col0\" >classifier.3.weight</td>\n",
              "      <td id=\"T_acad9_row2_col1\" class=\"data row2 col1\" >200</td>\n",
              "    </tr>\n",
              "    <tr>\n",
              "      <th id=\"T_acad9_level0_row3\" class=\"row_heading level0 row3\" >3</th>\n",
              "      <td id=\"T_acad9_row3_col0\" class=\"data row3 col0\" >classifier.3.bias</td>\n",
              "      <td id=\"T_acad9_row3_col1\" class=\"data row3 col1\" >2</td>\n",
              "    </tr>\n",
              "  </tbody>\n",
              "</table>\n"
            ]
          },
          "metadata": {},
          "execution_count": 28
        }
      ]
    },
    {
      "cell_type": "code",
      "source": [
        "device = 'cuda' if torch.cuda.is_available() else 'cpu'\n",
        "device"
      ],
      "metadata": {
        "id": "nC0NU_eNAe_W",
        "colab": {
          "base_uri": "https://localhost:8080/",
          "height": 36
        },
        "outputId": "4ca8fbce-aefa-4d21-bb77-87b886a26bb2"
      },
      "execution_count": 29,
      "outputs": [
        {
          "output_type": "execute_result",
          "data": {
            "text/plain": [
              "'cpu'"
            ],
            "application/vnd.google.colaboratory.intrinsic+json": {
              "type": "string"
            }
          },
          "metadata": {},
          "execution_count": 29
        }
      ]
    },
    {
      "cell_type": "markdown",
      "source": [
        "# Training loop"
      ],
      "metadata": {
        "id": "WoF0sXN5UXXg"
      }
    },
    {
      "cell_type": "code",
      "source": [
        "num_epochs = 30\n",
        "\n",
        "model.to(device)\n",
        "\n",
        "criterion = nn.CrossEntropyLoss()\n",
        "optimizer = torch.optim.Adam(model.parameters())"
      ],
      "metadata": {
        "id": "JLIBJOIAUU8a"
      },
      "execution_count": 30,
      "outputs": []
    },
    {
      "cell_type": "code",
      "source": [
        "from tqdm import tqdm\n",
        "for epoch in range(num_epochs):\n",
        "  with tqdm(train_loader) as tqdm_epoch:\n",
        "    for images, labels in tqdm_epoch:\n",
        "      tqdm_epoch.set_description(f'Epoch {epoch + 1}/{num_epochs}')\n",
        "\n",
        "      images = images.to(device)\n",
        "      labels = labels.to(device)\n",
        "\n",
        "      outputs = model(images)\n",
        "      loss = criterion(outputs, labels)\n",
        "\n",
        "      optimizer.zero_grad()\n",
        "      loss.backward()\n",
        "      optimizer.step()\n",
        "\n",
        "      tqdm_epoch.set_postfix(loss=loss.item())\n"
      ],
      "metadata": {
        "colab": {
          "base_uri": "https://localhost:8080/"
        },
        "id": "MLGkm8MNVEUu",
        "outputId": "c1e8e9e6-6c60-4a05-c9b0-405bde8f0df9"
      },
      "execution_count": 31,
      "outputs": [
        {
          "output_type": "stream",
          "name": "stderr",
          "text": [
            "Epoch 1/30: 100%|██████████| 4/4 [00:12<00:00,  3.24s/it, loss=0.927]\n",
            "Epoch 2/30: 100%|██████████| 4/4 [00:08<00:00,  2.14s/it, loss=0.323]\n",
            "Epoch 3/30: 100%|██████████| 4/4 [00:08<00:00,  2.14s/it, loss=0.321]\n",
            "Epoch 4/30: 100%|██████████| 4/4 [00:08<00:00,  2.13s/it, loss=0.144]\n",
            "Epoch 5/30: 100%|██████████| 4/4 [00:08<00:00,  2.14s/it, loss=0.19]\n",
            "Epoch 6/30: 100%|██████████| 4/4 [00:08<00:00,  2.13s/it, loss=0.228]\n",
            "Epoch 7/30: 100%|██████████| 4/4 [00:08<00:00,  2.12s/it, loss=0.0997]\n",
            "Epoch 8/30: 100%|██████████| 4/4 [00:08<00:00,  2.13s/it, loss=0.165]\n",
            "Epoch 9/30: 100%|██████████| 4/4 [00:08<00:00,  2.13s/it, loss=0.0553]\n",
            "Epoch 10/30: 100%|██████████| 4/4 [00:08<00:00,  2.13s/it, loss=0.0676]\n",
            "Epoch 11/30: 100%|██████████| 4/4 [00:08<00:00,  2.13s/it, loss=0.0583]\n",
            "Epoch 12/30: 100%|██████████| 4/4 [00:09<00:00,  2.36s/it, loss=0.0722]\n",
            "Epoch 13/30: 100%|██████████| 4/4 [00:08<00:00,  2.24s/it, loss=0.0303]\n",
            "Epoch 14/30: 100%|██████████| 4/4 [00:08<00:00,  2.13s/it, loss=0.0161]\n",
            "Epoch 15/30: 100%|██████████| 4/4 [00:08<00:00,  2.13s/it, loss=0.0338]\n",
            "Epoch 16/30: 100%|██████████| 4/4 [00:08<00:00,  2.13s/it, loss=0.0261]\n",
            "Epoch 17/30: 100%|██████████| 4/4 [00:08<00:00,  2.13s/it, loss=0.0416]\n",
            "Epoch 18/30: 100%|██████████| 4/4 [00:08<00:00,  2.12s/it, loss=0.0226]\n",
            "Epoch 19/30: 100%|██████████| 4/4 [00:08<00:00,  2.15s/it, loss=0.0214]\n",
            "Epoch 20/30: 100%|██████████| 4/4 [00:08<00:00,  2.12s/it, loss=0.0252]\n",
            "Epoch 21/30: 100%|██████████| 4/4 [00:08<00:00,  2.13s/it, loss=0.0366]\n",
            "Epoch 22/30: 100%|██████████| 4/4 [00:08<00:00,  2.14s/it, loss=0.0189]\n",
            "Epoch 23/30: 100%|██████████| 4/4 [00:08<00:00,  2.13s/it, loss=0.0218]\n",
            "Epoch 24/30: 100%|██████████| 4/4 [00:08<00:00,  2.13s/it, loss=0.0259]\n",
            "Epoch 25/30: 100%|██████████| 4/4 [00:08<00:00,  2.12s/it, loss=0.013]\n",
            "Epoch 26/30: 100%|██████████| 4/4 [00:08<00:00,  2.13s/it, loss=0.0242]\n",
            "Epoch 27/30: 100%|██████████| 4/4 [00:08<00:00,  2.12s/it, loss=0.0356]\n",
            "Epoch 28/30: 100%|██████████| 4/4 [00:08<00:00,  2.13s/it, loss=0.00763]\n",
            "Epoch 29/30: 100%|██████████| 4/4 [00:08<00:00,  2.13s/it, loss=0.00911]\n",
            "Epoch 30/30: 100%|██████████| 4/4 [00:08<00:00,  2.12s/it, loss=0.0055]\n"
          ]
        }
      ]
    },
    {
      "cell_type": "code",
      "source": [
        "ROOT_MODEL_DIR = \"trained_models\"\n",
        "os.makedirs(ROOT_MODEL_DIR, exist_ok=True)\n",
        "\n",
        "MODEL_FILE = \"Trans_model.pth\"\n",
        "MODEL_FILE_PATH = os.path.join(ROOT_MODEL_DIR, MODEL_FILE)\n",
        "\n",
        "\n",
        "torch.save(model, MODEL_FILE_PATH)"
      ],
      "metadata": {
        "id": "TRK0fRLOV5CC"
      },
      "execution_count": 32,
      "outputs": []
    },
    {
      "cell_type": "markdown",
      "source": [
        "# Evaluate model"
      ],
      "metadata": {
        "id": "3tZ_G4MCeptg"
      }
    },
    {
      "cell_type": "code",
      "source": [
        "pred = np.array([])\n",
        "target = np.array([])\n",
        "\n",
        "with torch.no_grad():\n",
        "  for batch, data in enumerate(test_loader):\n",
        "    image, label = data[0].to(device), data[1].to(device)\n",
        "\n",
        "    y_pred = model(image)\n",
        "\n",
        "    pred = np.concatenate((pred, torch.argmax(y_pred, 1).cpu().numpy()))\n",
        "    target = np.concatenate((target, label.cpu().numpy()))"
      ],
      "metadata": {
        "id": "crYkPLE1eRVU"
      },
      "execution_count": 33,
      "outputs": []
    },
    {
      "cell_type": "code",
      "source": [
        "cm = confusion_matrix(target, pred)\n",
        "\n",
        "# plt.figure(fi)\n",
        "sns.heatmap(cm, annot=True, fmt='d', xticklabels=label_map.keys(), yticklabels=label_map.keys(), cbar=False)"
      ],
      "metadata": {
        "colab": {
          "base_uri": "https://localhost:8080/",
          "height": 282
        },
        "id": "qYdSVE2jffsv",
        "outputId": "9d1a58d8-e59b-4136-8dca-3d6a4424d68d"
      },
      "execution_count": 34,
      "outputs": [
        {
          "output_type": "execute_result",
          "data": {
            "text/plain": [
              "<matplotlib.axes._subplots.AxesSubplot at 0x7f14e098c110>"
            ]
          },
          "metadata": {},
          "execution_count": 34
        },
        {
          "output_type": "display_data",
          "data": {
            "text/plain": [
              "<Figure size 432x288 with 1 Axes>"
            ],
            "image/png": "[encoded data removed]"
          },
          "metadata": {
            "needs_background": "light"
          }
        }
      ]
    }
  ]
}