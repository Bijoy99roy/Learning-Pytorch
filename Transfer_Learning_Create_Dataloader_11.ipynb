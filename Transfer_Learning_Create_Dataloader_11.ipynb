{
  "nbformat": 4,
  "nbformat_minor": 0,
  "metadata": {
    "colab": {
      "name": "Transfer Learning Create Dataloader.ipynb",
      "provenance": [],
      "authorship_tag": "ABX9TyMNP3IKNj3xd0ee7h7iRrWZ"
    },
    "kernelspec": {
      "name": "python3",
      "display_name": "Python 3"
    },
    "language_info": {
      "name": "python"
    }
  },
  "cells": [
    {
      "cell_type": "code",
      "execution_count": 1,
      "metadata": {
        "id": "-pLr_aynpbaB"
      },
      "outputs": [],
      "source": [
        "import os\n",
        "import torch\n",
        "import torch.nn as nn\n",
        "from torchvision import models, datasets, transforms\n",
        "from torch.utils.data import DataLoader\n",
        "import pandas as pd\n",
        "import numpy as np\n",
        "import matplotlib.pyplot as plt\n",
        "import seaborn as sns\n",
        "from sklearn.metrics import confusion_matrix\n",
        "import urllib.request as req"
      ]
    },
    {
      "cell_type": "markdown",
      "source": [
        "## Dowanload data"
      ],
      "metadata": {
        "id": "tczwWKAnqRzO"
      }
    },
    {
      "cell_type": "code",
      "source": [
        "data_url = \"https://download.pytorch.org/tutorial/hymenoptera_data.zip\""
      ],
      "metadata": {
        "id": "hkKXSilZqQtd"
      },
      "execution_count": 2,
      "outputs": []
    },
    {
      "cell_type": "code",
      "source": [
        "# create a directory\n",
        "\n",
        "def create_dirs(dir_path):\n",
        "  os.makedirs(dir_path, exist_ok=True)\n",
        "  print(f\"{dir_path} directory created\")\n",
        "\n",
        "ROOT_DATA_DIR = 'hymenoptera_data'\n",
        "create_dirs(ROOT_DATA_DIR)"
      ],
      "metadata": {
        "colab": {
          "base_uri": "https://localhost:8080/"
        },
        "id": "klho3UHZqYSJ",
        "outputId": "bf970c23-9afb-4d00-d23f-a4afe071fbc2"
      },
      "execution_count": 5,
      "outputs": [
        {
          "output_type": "stream",
          "name": "stdout",
          "text": [
            "hymenoptera_data directory created\n"
          ]
        }
      ]
    },
    {
      "cell_type": "code",
      "source": [
        "data_zip_file = 'data.zip'\n",
        "data_zip_path = os.path.join(ROOT_DATA_DIR, data_zip_file)\n",
        "\n",
        "if not os.path.isfile(data_zip_path):\n",
        "  print('downlaoding file...')\n",
        "  filename, headers = req.urlretrieve(data_url, data_zip_path)\n",
        "  print(f'filename: {filename} created with info \\n{headers}')\n",
        "else:\n",
        "  print('file is already present')"
      ],
      "metadata": {
        "colab": {
          "base_uri": "https://localhost:8080/"
        },
        "id": "PIsxyWmIqx1v",
        "outputId": "7ce548db-a397-44d7-8ac9-384fbae9c880"
      },
      "execution_count": 26,
      "outputs": [
        {
          "output_type": "stream",
          "name": "stdout",
          "text": [
            "file is already present\n"
          ]
        }
      ]
    },
    {
      "cell_type": "markdown",
      "source": [
        "# Unzip data"
      ],
      "metadata": {
        "id": "zg-gFrcfrdWV"
      }
    },
    {
      "cell_type": "code",
      "source": [
        "\n",
        "from zipfile import ZipFile\n",
        "\n",
        "unzip_data_dirname = \"unzip_data_dir\"\n",
        "unzip_data_dir = os.path.join(ROOT_DATA_DIR, unzip_data_dirname)\n",
        "\n",
        "if not os.path.exists(unzip_data_dir):\n",
        "    os.makedirs(unzip_data_dir, exist_ok=True)\n",
        "    with ZipFile(data_zip_path) as f:\n",
        "        f.extractall(unzip_data_dir)\n",
        "else:\n",
        "    print(f\"data already extacted\")"
      ],
      "metadata": {
        "id": "zJjJUOQYrcWE"
      },
      "execution_count": 29,
      "outputs": []
    },
    {
      "cell_type": "markdown",
      "source": [
        "# Create data loaders"
      ],
      "metadata": {
        "id": "LsdCOXnPsUba"
      }
    },
    {
      "cell_type": "code",
      "source": [
        "from pathlib import Path"
      ],
      "metadata": {
        "id": "RYUqOPhvsLjU"
      },
      "execution_count": 30,
      "outputs": []
    },
    {
      "cell_type": "code",
      "source": [
        "train_path = Path(\"hymenoptera_data/unzip_data_dir/hymenoptera_data/train\")\n",
        "test_path = Path(\"hymenoptera_data/unzip_data_dir/hymenoptera_data/val\")"
      ],
      "metadata": {
        "id": "tEjTYIGcsY06"
      },
      "execution_count": 31,
      "outputs": []
    },
    {
      "cell_type": "code",
      "source": [
        "\n",
        "img_size = (224, 224)"
      ],
      "metadata": {
        "id": "Qrga31W6sZ9s"
      },
      "execution_count": 32,
      "outputs": []
    },
    {
      "cell_type": "code",
      "source": [
        "mean = torch.tensor([0.5, 0.5, 0.5])\n",
        "std = torch.tensor([0.5, 0.5, 0.5])"
      ],
      "metadata": {
        "id": "l6mOIWn9sbwm"
      },
      "execution_count": 33,
      "outputs": []
    },
    {
      "cell_type": "markdown",
      "source": [
        "# Transformation"
      ],
      "metadata": {
        "id": "x5grwyNkseH4"
      }
    },
    {
      "cell_type": "code",
      "source": [
        "train_transforms = transforms.Compose([\n",
        "    transforms.Resize(img_size),\n",
        "    transforms.RandomRotation(degrees=20),\n",
        "    transforms.ToTensor(),\n",
        "    transforms.Normalize(mean, std)\n",
        "])\n",
        "\n",
        "test_transforms = transforms.Compose([\n",
        "    transforms.Resize(img_size),\n",
        "    transforms.ToTensor(),\n",
        "    transforms.Normalize(mean, std)\n",
        "])"
      ],
      "metadata": {
        "id": "oVGKcY3asdAV"
      },
      "execution_count": 34,
      "outputs": []
    },
    {
      "cell_type": "code",
      "source": [
        "\n",
        "train_data = datasets.ImageFolder(root=train_path, transform=train_transforms)\n",
        "test_data = datasets.ImageFolder(root=test_path, transform=test_transforms)"
      ],
      "metadata": {
        "id": "5lMPvRtls0ov"
      },
      "execution_count": 35,
      "outputs": []
    },
    {
      "cell_type": "code",
      "source": [
        "train_data.class_to_idx"
      ],
      "metadata": {
        "colab": {
          "base_uri": "https://localhost:8080/"
        },
        "id": "kUCIZcxBtMSR",
        "outputId": "3c618fe1-5d8e-4597-8d6b-9c5455dbd0ce"
      },
      "execution_count": 36,
      "outputs": [
        {
          "output_type": "execute_result",
          "data": {
            "text/plain": [
              "{'ants': 0, 'bees': 1}"
            ]
          },
          "metadata": {},
          "execution_count": 36
        }
      ]
    },
    {
      "cell_type": "code",
      "source": [
        "label_map = train_data.class_to_idx\n",
        "label_map"
      ],
      "metadata": {
        "colab": {
          "base_uri": "https://localhost:8080/"
        },
        "id": "bTBt71druor1",
        "outputId": "edf681ea-6619-46a5-b852-66b97e5d14fc"
      },
      "execution_count": 37,
      "outputs": [
        {
          "output_type": "execute_result",
          "data": {
            "text/plain": [
              "{'ants': 0, 'bees': 1}"
            ]
          },
          "metadata": {},
          "execution_count": 37
        }
      ]
    },
    {
      "cell_type": "code",
      "source": [
        "train_data"
      ],
      "metadata": {
        "colab": {
          "base_uri": "https://localhost:8080/"
        },
        "id": "LephSD9iuu7L",
        "outputId": "a96e477c-338e-424f-cf99-52fbde3b60af"
      },
      "execution_count": 38,
      "outputs": [
        {
          "output_type": "execute_result",
          "data": {
            "text/plain": [
              "Dataset ImageFolder\n",
              "    Number of datapoints: 244\n",
              "    Root location: hymenoptera_data/unzip_data_dir/hymenoptera_data/train\n",
              "    StandardTransform\n",
              "Transform: Compose(\n",
              "               Resize(size=(224, 224), interpolation=bilinear, max_size=None, antialias=None)\n",
              "               RandomRotation(degrees=[-20.0, 20.0], interpolation=nearest, expand=False, fill=0)\n",
              "               ToTensor()\n",
              "               Normalize(mean=tensor([0.5000, 0.5000, 0.5000]), std=tensor([0.5000, 0.5000, 0.5000]))\n",
              "           )"
            ]
          },
          "metadata": {},
          "execution_count": 38
        }
      ]
    },
    {
      "cell_type": "code",
      "source": [
        "batch_size = 64\n",
        "train_loader = DataLoader(train_data, shuffle=True, batch_size=batch_size)\n",
        "test_loader = DataLoader(test_data, shuffle=False, batch_size=batch_size)"
      ],
      "metadata": {
        "id": "4DAc-ma4uwzG"
      },
      "execution_count": 39,
      "outputs": []
    },
    {
      "cell_type": "code",
      "source": [
        "data = next(iter(train_loader))"
      ],
      "metadata": {
        "id": "0zjnqkWwvCri"
      },
      "execution_count": 41,
      "outputs": []
    },
    {
      "cell_type": "code",
      "source": [
        "len(data)"
      ],
      "metadata": {
        "colab": {
          "base_uri": "https://localhost:8080/"
        },
        "id": "ljgx_K8uvFzQ",
        "outputId": "3e8aed21-499d-4b56-fe71-5a6dc549b8de"
      },
      "execution_count": 42,
      "outputs": [
        {
          "output_type": "execute_result",
          "data": {
            "text/plain": [
              "2"
            ]
          },
          "metadata": {},
          "execution_count": 42
        }
      ]
    },
    {
      "cell_type": "code",
      "source": [
        "images, labels = data"
      ],
      "metadata": {
        "id": "TI6qNnsWvJb8"
      },
      "execution_count": 43,
      "outputs": []
    },
    {
      "cell_type": "code",
      "source": [
        "images.shape"
      ],
      "metadata": {
        "colab": {
          "base_uri": "https://localhost:8080/"
        },
        "id": "lm4_VZ02vLfW",
        "outputId": "6f2906e2-44f1-45ad-bc81-b2d72d92bc40"
      },
      "execution_count": 45,
      "outputs": [
        {
          "output_type": "execute_result",
          "data": {
            "text/plain": [
              "torch.Size([64, 3, 224, 224])"
            ]
          },
          "metadata": {},
          "execution_count": 45
        }
      ]
    },
    {
      "cell_type": "code",
      "source": [
        ""
      ],
      "metadata": {
        "id": "z4Gdw7uwvMra"
      },
      "execution_count": null,
      "outputs": []
    }
  ]
}