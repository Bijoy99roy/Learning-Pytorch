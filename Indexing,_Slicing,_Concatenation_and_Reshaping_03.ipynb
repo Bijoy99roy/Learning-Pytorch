{
  "nbformat": 4,
  "nbformat_minor": 0,
  "metadata": {
    "colab": {
      "name": "Indexing, Slicing, Concatenation and Reshaping 03.ipynb",
      "provenance": [],
      "authorship_tag": "ABX9TyNLhaQlOsNshSbTS+LLW8LW"
    },
    "kernelspec": {
      "name": "python3",
      "display_name": "Python 3"
    },
    "language_info": {
      "name": "python"
    }
  },
  "cells": [
    {
      "cell_type": "code",
      "execution_count": 1,
      "metadata": {
        "id": "3XtGliH2T6uX"
      },
      "outputs": [],
      "source": [
        "import numpy as np\n",
        "import torch\n",
        "import os"
      ]
    },
    {
      "cell_type": "markdown",
      "source": [
        "# Indexing and Slicing"
      ],
      "metadata": {
        "id": "UJdFkqkJUGWh"
      }
    },
    {
      "cell_type": "code",
      "source": [
        "a = torch.rand(size=(3,3))\n",
        "a"
      ],
      "metadata": {
        "colab": {
          "base_uri": "https://localhost:8080/"
        },
        "id": "lIW8zAX-UESN",
        "outputId": "06802342-ec86-4919-b18f-d3e491af8c78"
      },
      "execution_count": 2,
      "outputs": [
        {
          "output_type": "execute_result",
          "data": {
            "text/plain": [
              "tensor([[0.4617, 0.5344, 0.4058],\n",
              "        [0.1839, 0.5077, 0.4204],\n",
              "        [0.2714, 0.1504, 0.3194]])"
            ]
          },
          "metadata": {},
          "execution_count": 2
        }
      ]
    },
    {
      "cell_type": "markdown",
      "source": [
        "tensor[row, col]"
      ],
      "metadata": {
        "id": "_Ey4C0ThUcUs"
      }
    },
    {
      "cell_type": "code",
      "source": [
        "a[0,:]"
      ],
      "metadata": {
        "colab": {
          "base_uri": "https://localhost:8080/"
        },
        "id": "JUXEYiZEUPZW",
        "outputId": "03f338ee-2228-4a63-d13a-5ecc4abc7f9a"
      },
      "execution_count": 5,
      "outputs": [
        {
          "output_type": "execute_result",
          "data": {
            "text/plain": [
              "tensor([0.4617, 0.5344, 0.4058])"
            ]
          },
          "metadata": {},
          "execution_count": 5
        }
      ]
    },
    {
      "cell_type": "code",
      "source": [
        "a[:,0]"
      ],
      "metadata": {
        "colab": {
          "base_uri": "https://localhost:8080/"
        },
        "id": "F9JKT6RbUUiC",
        "outputId": "2e4285e9-0805-4c00-c9de-4a75a9b6610d"
      },
      "execution_count": 6,
      "outputs": [
        {
          "output_type": "execute_result",
          "data": {
            "text/plain": [
              "tensor([0.4617, 0.1839, 0.2714])"
            ]
          },
          "metadata": {},
          "execution_count": 6
        }
      ]
    },
    {
      "cell_type": "code",
      "source": [
        "a[0:2,1:3]"
      ],
      "metadata": {
        "colab": {
          "base_uri": "https://localhost:8080/"
        },
        "id": "asMaZXKAVCD3",
        "outputId": "e18c28fb-ce80-462d-d2bf-840add8d3d9e"
      },
      "execution_count": 8,
      "outputs": [
        {
          "output_type": "execute_result",
          "data": {
            "text/plain": [
              "tensor([[0.5344, 0.4058],\n",
              "        [0.5077, 0.4204]])"
            ]
          },
          "metadata": {},
          "execution_count": 8
        }
      ]
    },
    {
      "cell_type": "code",
      "source": [
        "a[0,0]"
      ],
      "metadata": {
        "colab": {
          "base_uri": "https://localhost:8080/"
        },
        "id": "YrbOSNk0VV-a",
        "outputId": "81b3279c-6257-4f08-df77-a2ffd706efd0"
      },
      "execution_count": 9,
      "outputs": [
        {
          "output_type": "execute_result",
          "data": {
            "text/plain": [
              "tensor(0.4617)"
            ]
          },
          "metadata": {},
          "execution_count": 9
        }
      ]
    },
    {
      "cell_type": "code",
      "source": [
        "a[0,0] = 2"
      ],
      "metadata": {
        "id": "RW6Cx2WvV48V"
      },
      "execution_count": 10,
      "outputs": []
    },
    {
      "cell_type": "code",
      "source": [
        "a"
      ],
      "metadata": {
        "colab": {
          "base_uri": "https://localhost:8080/"
        },
        "id": "w5mRMdq4V7fa",
        "outputId": "fd77cdec-19f2-4052-e597-54aa29cc8bde"
      },
      "execution_count": 11,
      "outputs": [
        {
          "output_type": "execute_result",
          "data": {
            "text/plain": [
              "tensor([[2.0000, 0.5344, 0.4058],\n",
              "        [0.1839, 0.5077, 0.4204],\n",
              "        [0.2714, 0.1504, 0.3194]])"
            ]
          },
          "metadata": {},
          "execution_count": 11
        }
      ]
    },
    {
      "cell_type": "markdown",
      "source": [
        "# Concatination"
      ],
      "metadata": {
        "id": "MAieraOvWAhC"
      }
    },
    {
      "cell_type": "code",
      "source": [
        "a = torch.rand(size=(3,3))\n",
        "b = torch.rand(size=(3,3))"
      ],
      "metadata": {
        "id": "1Z8S2uI6V7vS"
      },
      "execution_count": 12,
      "outputs": []
    },
    {
      "cell_type": "code",
      "source": [
        "a, b"
      ],
      "metadata": {
        "colab": {
          "base_uri": "https://localhost:8080/"
        },
        "id": "whx93XokWKDq",
        "outputId": "ff483218-c3fd-47a4-8e34-2d0c1098ff73"
      },
      "execution_count": 13,
      "outputs": [
        {
          "output_type": "execute_result",
          "data": {
            "text/plain": [
              "(tensor([[0.6233, 0.2433, 0.3443],\n",
              "         [0.7285, 0.0152, 0.0433],\n",
              "         [0.9805, 0.5637, 0.1887]]), tensor([[0.1579, 0.9837, 0.9291],\n",
              "         [0.9645, 0.0783, 0.3794],\n",
              "         [0.0164, 0.9815, 0.8248]]))"
            ]
          },
          "metadata": {},
          "execution_count": 13
        }
      ]
    },
    {
      "cell_type": "code",
      "source": [
        "torch.cat((a,b)) # colwise"
      ],
      "metadata": {
        "colab": {
          "base_uri": "https://localhost:8080/"
        },
        "id": "NNozTXlnWKwH",
        "outputId": "de088fcd-830a-4ab7-e2a4-62a2d020e5ec"
      },
      "execution_count": 15,
      "outputs": [
        {
          "output_type": "execute_result",
          "data": {
            "text/plain": [
              "tensor([[0.6233, 0.2433, 0.3443],\n",
              "        [0.7285, 0.0152, 0.0433],\n",
              "        [0.9805, 0.5637, 0.1887],\n",
              "        [0.1579, 0.9837, 0.9291],\n",
              "        [0.9645, 0.0783, 0.3794],\n",
              "        [0.0164, 0.9815, 0.8248]])"
            ]
          },
          "metadata": {},
          "execution_count": 15
        }
      ]
    },
    {
      "cell_type": "code",
      "source": [
        "torch.cat((a, b), dim=1) # rowwise"
      ],
      "metadata": {
        "colab": {
          "base_uri": "https://localhost:8080/"
        },
        "id": "d43W0UmaWPKU",
        "outputId": "64853dc8-8e4a-43e4-fe74-a115d100ad9a"
      },
      "execution_count": 16,
      "outputs": [
        {
          "output_type": "execute_result",
          "data": {
            "text/plain": [
              "tensor([[0.6233, 0.2433, 0.3443, 0.1579, 0.9837, 0.9291],\n",
              "        [0.7285, 0.0152, 0.0433, 0.9645, 0.0783, 0.3794],\n",
              "        [0.9805, 0.5637, 0.1887, 0.0164, 0.9815, 0.8248]])"
            ]
          },
          "metadata": {},
          "execution_count": 16
        }
      ]
    },
    {
      "cell_type": "markdown",
      "source": [
        "# Reshaping"
      ],
      "metadata": {
        "id": "xJXP3BGbWiO7"
      }
    },
    {
      "cell_type": "code",
      "source": [
        "a = torch.rand(size=(3,4))"
      ],
      "metadata": {
        "id": "-fEnp9j3WX0R"
      },
      "execution_count": 17,
      "outputs": []
    },
    {
      "cell_type": "code",
      "source": [
        "a.shape"
      ],
      "metadata": {
        "colab": {
          "base_uri": "https://localhost:8080/"
        },
        "id": "dfBBs_brW5b6",
        "outputId": "74b396a6-10fb-4968-e782-052cdb988af4"
      },
      "execution_count": 18,
      "outputs": [
        {
          "output_type": "execute_result",
          "data": {
            "text/plain": [
              "torch.Size([3, 4])"
            ]
          },
          "metadata": {},
          "execution_count": 18
        }
      ]
    },
    {
      "cell_type": "code",
      "source": [
        "a.reshape(2, 6)"
      ],
      "metadata": {
        "colab": {
          "base_uri": "https://localhost:8080/"
        },
        "id": "_SqfBdTYW6VI",
        "outputId": "696afa56-4a0f-41c0-87e5-02d9f3a8ce46"
      },
      "execution_count": 19,
      "outputs": [
        {
          "output_type": "execute_result",
          "data": {
            "text/plain": [
              "tensor([[0.6517, 0.7043, 0.0718, 0.1254, 0.2111, 0.9440],\n",
              "        [0.7074, 0.1293, 0.0654, 0.7826, 0.6903, 0.5887]])"
            ]
          },
          "metadata": {},
          "execution_count": 19
        }
      ]
    },
    {
      "cell_type": "code",
      "source": [
        "a.shape"
      ],
      "metadata": {
        "colab": {
          "base_uri": "https://localhost:8080/"
        },
        "id": "YuxnL9R2W9v-",
        "outputId": "869f169f-832e-4479-c202-edbcea45540c"
      },
      "execution_count": 20,
      "outputs": [
        {
          "output_type": "execute_result",
          "data": {
            "text/plain": [
              "torch.Size([3, 4])"
            ]
          },
          "metadata": {},
          "execution_count": 20
        }
      ]
    },
    {
      "cell_type": "code",
      "source": [
        "a.reshape(1, 12)"
      ],
      "metadata": {
        "colab": {
          "base_uri": "https://localhost:8080/"
        },
        "id": "jy4UaO6XW-bP",
        "outputId": "38366412-5db4-4130-8c3f-bd2531801302"
      },
      "execution_count": 22,
      "outputs": [
        {
          "output_type": "execute_result",
          "data": {
            "text/plain": [
              "tensor([[0.6517, 0.7043, 0.0718, 0.1254, 0.2111, 0.9440, 0.7074, 0.1293, 0.0654,\n",
              "         0.7826, 0.6903, 0.5887]])"
            ]
          },
          "metadata": {},
          "execution_count": 22
        }
      ]
    },
    {
      "cell_type": "code",
      "source": [
        "a.view(-1) #Flattening"
      ],
      "metadata": {
        "colab": {
          "base_uri": "https://localhost:8080/"
        },
        "id": "Ex8yTNciXHdf",
        "outputId": "6d204438-d267-46ec-85dd-226409ec342e"
      },
      "execution_count": 24,
      "outputs": [
        {
          "output_type": "execute_result",
          "data": {
            "text/plain": [
              "tensor([0.6517, 0.7043, 0.0718, 0.1254, 0.2111, 0.9440, 0.7074, 0.1293, 0.0654,\n",
              "        0.7826, 0.6903, 0.5887])"
            ]
          },
          "metadata": {},
          "execution_count": 24
        }
      ]
    },
    {
      "cell_type": "code",
      "source": [
        "a.view(-1).shape"
      ],
      "metadata": {
        "colab": {
          "base_uri": "https://localhost:8080/"
        },
        "id": "6Om0wNb8XMsG",
        "outputId": "5bb66e07-4ec6-46c0-c668-71b202ea391d"
      },
      "execution_count": 25,
      "outputs": [
        {
          "output_type": "execute_result",
          "data": {
            "text/plain": [
              "torch.Size([12])"
            ]
          },
          "metadata": {},
          "execution_count": 25
        }
      ]
    },
    {
      "cell_type": "code",
      "source": [
        "# Batch flatenning operation\n",
        "\n",
        "batch = 16\n",
        "\n",
        "torch.rand((batch, 2, 5))"
      ],
      "metadata": {
        "colab": {
          "base_uri": "https://localhost:8080/"
        },
        "id": "r-k9TYA4XSpC",
        "outputId": "1aeed572-f38d-4c92-a2cb-acaafedb9e5a"
      },
      "execution_count": 30,
      "outputs": [
        {
          "output_type": "execute_result",
          "data": {
            "text/plain": [
              "tensor([[[0.5160, 0.6634, 0.2929, 0.7533, 0.9912],\n",
              "         [0.6345, 0.8759, 0.3064, 0.9819, 0.8565]],\n",
              "\n",
              "        [[0.6200, 0.7884, 0.8612, 0.6540, 0.2810],\n",
              "         [0.3810, 0.5448, 0.1466, 0.8588, 0.0212]],\n",
              "\n",
              "        [[0.7277, 0.1495, 0.1851, 0.8356, 0.0672],\n",
              "         [0.3707, 0.2229, 0.8016, 0.7255, 0.9706]],\n",
              "\n",
              "        [[0.5709, 0.0539, 0.2000, 0.6405, 0.3519],\n",
              "         [0.6120, 0.9675, 0.3270, 0.8826, 0.8931]],\n",
              "\n",
              "        [[0.5590, 0.3691, 0.5435, 0.3750, 0.9689],\n",
              "         [0.0924, 0.2075, 0.2941, 0.3423, 0.2172]],\n",
              "\n",
              "        [[0.0296, 0.0329, 0.5801, 0.1154, 0.1903],\n",
              "         [0.5494, 0.9316, 0.3128, 0.6496, 0.9196]],\n",
              "\n",
              "        [[0.0821, 0.7877, 0.9636, 0.7741, 0.3522],\n",
              "         [0.1741, 0.6262, 0.4777, 0.4090, 0.0792]],\n",
              "\n",
              "        [[0.3950, 0.7446, 0.4462, 0.8705, 0.9209],\n",
              "         [0.5819, 0.2120, 0.9024, 0.4539, 0.6570]],\n",
              "\n",
              "        [[0.1867, 0.9129, 0.4213, 0.9017, 0.8695],\n",
              "         [0.2202, 0.6083, 0.7083, 0.8721, 0.1730]],\n",
              "\n",
              "        [[0.2059, 0.9830, 0.3628, 0.7105, 0.6641],\n",
              "         [0.1739, 0.6885, 0.3943, 0.7817, 0.9057]],\n",
              "\n",
              "        [[0.3919, 0.0846, 0.3432, 0.0904, 0.8585],\n",
              "         [0.0217, 0.7506, 0.9194, 0.4276, 0.9916]],\n",
              "\n",
              "        [[0.0950, 0.3538, 0.9681, 0.9967, 0.3310],\n",
              "         [0.0531, 0.0634, 0.9876, 0.9063, 0.4197]],\n",
              "\n",
              "        [[0.1499, 0.9816, 0.6361, 0.3070, 0.5715],\n",
              "         [0.6342, 0.0516, 0.9461, 0.9923, 0.5190]],\n",
              "\n",
              "        [[0.6911, 0.9330, 0.9033, 0.1252, 0.2044],\n",
              "         [0.4862, 0.6981, 0.8814, 0.1122, 0.8649]],\n",
              "\n",
              "        [[0.2489, 0.0920, 0.5278, 0.8871, 0.5461],\n",
              "         [0.7220, 0.2845, 0.4552, 0.5845, 0.9560]],\n",
              "\n",
              "        [[0.5400, 0.4288, 0.5994, 0.8670, 0.3838],\n",
              "         [0.2848, 0.5417, 0.7584, 0.0672, 0.9143]]])"
            ]
          },
          "metadata": {},
          "execution_count": 30
        }
      ]
    },
    {
      "cell_type": "code",
      "source": [
        "torch.rand((batch, 2, 5)).view((batch, -1))"
      ],
      "metadata": {
        "colab": {
          "base_uri": "https://localhost:8080/"
        },
        "id": "QjxmqW9SXuO3",
        "outputId": "f14e088e-795e-4509-e6a7-97444774b34a"
      },
      "execution_count": 31,
      "outputs": [
        {
          "output_type": "execute_result",
          "data": {
            "text/plain": [
              "tensor([[0.5292, 0.3516, 0.1940, 0.4492, 0.7306, 0.9436, 0.5036, 0.0374, 0.4373,\n",
              "         0.3171],\n",
              "        [0.4197, 0.6333, 0.7914, 0.2901, 0.4351, 0.8518, 0.3914, 0.0435, 0.2450,\n",
              "         0.6158],\n",
              "        [0.7481, 0.4176, 0.5382, 0.7717, 0.3964, 0.7394, 0.2135, 0.9148, 0.4365,\n",
              "         0.5117],\n",
              "        [0.7376, 0.6022, 0.1478, 0.0870, 0.3445, 0.6848, 0.9209, 0.6256, 0.2708,\n",
              "         0.2279],\n",
              "        [0.2403, 0.4669, 0.5813, 0.4837, 0.9280, 0.0542, 0.9238, 0.2182, 0.7751,\n",
              "         0.7784],\n",
              "        [0.2123, 0.9350, 0.2114, 0.9928, 0.7742, 0.1319, 0.2348, 0.7672, 0.7231,\n",
              "         0.5035],\n",
              "        [0.3063, 0.8701, 0.7303, 0.5538, 0.7901, 0.3448, 0.4128, 0.6710, 0.7778,\n",
              "         0.0476],\n",
              "        [0.8291, 0.7281, 0.9948, 0.3821, 0.1063, 0.8513, 0.5783, 0.2948, 0.1847,\n",
              "         0.2832],\n",
              "        [0.9359, 0.4287, 0.8947, 0.9332, 0.4656, 0.6311, 0.3866, 0.2722, 0.3546,\n",
              "         0.4399],\n",
              "        [0.4251, 0.8875, 0.3108, 0.9956, 0.6865, 0.2163, 0.0029, 0.8955, 0.6586,\n",
              "         0.4567],\n",
              "        [0.4030, 0.2048, 0.7585, 0.4957, 0.3729, 0.5202, 0.2568, 0.8253, 0.0151,\n",
              "         0.1474],\n",
              "        [0.2313, 0.9989, 0.0223, 0.2080, 0.7233, 0.6307, 0.1962, 0.7468, 0.4006,\n",
              "         0.6032],\n",
              "        [0.5478, 0.6671, 0.8466, 0.1619, 0.3587, 0.5622, 0.3903, 0.9545, 0.1936,\n",
              "         0.5721],\n",
              "        [0.2420, 0.0311, 0.2166, 0.3988, 0.7172, 0.9633, 0.9519, 0.3533, 0.0717,\n",
              "         0.5303],\n",
              "        [0.3415, 0.4675, 0.0662, 0.3453, 0.1463, 0.5580, 0.7055, 0.7235, 0.1266,\n",
              "         0.6146],\n",
              "        [0.9685, 0.7494, 0.5101, 0.8094, 0.8271, 0.0177, 0.4216, 0.1173, 0.8591,\n",
              "         0.1960]])"
            ]
          },
          "metadata": {},
          "execution_count": 31
        }
      ]
    },
    {
      "cell_type": "code",
      "source": [
        ""
      ],
      "metadata": {
        "id": "n-thlhgGX_qI"
      },
      "execution_count": null,
      "outputs": []
    }
  ]
}